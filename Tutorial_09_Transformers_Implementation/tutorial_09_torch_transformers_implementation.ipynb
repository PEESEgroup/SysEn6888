{
  "cells": [
    {
      "cell_type": "markdown",
      "metadata": {
        "id": "Xh8WNEwYA3BW"
      },
      "source": [
        "# Transfomers Implementation\n",
        "\n",
        "A transformer is a deep learning model that adopts the mechanism of attention, differentially weighing the significance of each part of the input data. It is used primarily in the field of natural language processing (NLP) and in computer vision (CV).\n",
        "\n",
        "Like recurrent neural networks (RNNs), transformers are designed to handle sequential input data, such as natural language, for tasks such as translation and text summarization. However, unlike RNNs, transformers do not necessarily process the data in order. Rather, the attention mechanism provides context for any position in the input sequence. For example, if the input data is a natural language sentence, the transformer does not need to process the beginning of the sentence before the end. Rather, it identifies the context that confers meaning to each word in the sentence. This feature allows for more parallelization than RNNs and therefore reduces training times.\n",
        "\n",
        "https://arxiv.org/pdf/1706.03762.pdf\n",
        "\n",
        "<table>\n",
        "<tr>\n",
        "  <td>\n",
        "   <img width=400 src=\"https://www.tensorflow.org/images/tutorials/transformer/RNN%2Battention-words-spa.png\"/>\n",
        "  </td>\n",
        "</tr>\n",
        "<tr>\n",
        "  <th colspan=1>This tutorial: An encoder/decoder connected by attention.</th>\n",
        "<tr>\n",
        "</table>\n",
        "."
      ]
    },
    {
      "cell_type": "markdown",
      "metadata": {
        "id": "yAmSR1FaqKrl"
      },
      "source": [
        "## Setup"
      ]
    },
    {
      "cell_type": "code",
      "execution_count": 1,
      "metadata": {
        "id": "DGFTkuRvzWqc"
      },
      "outputs": [
        {
          "name": "stdout",
          "output_type": "stream",
          "text": [
            "Requirement already satisfied: torchtext==0.16.0 in /home/ubuntu/data/anaconda3/envs/mat/lib/python3.10/site-packages (0.16.0)\n",
            "Requirement already satisfied: torch==2.1.0 in /home/ubuntu/data/anaconda3/envs/mat/lib/python3.10/site-packages (2.1.0)\n",
            "Requirement already satisfied: tqdm in /home/ubuntu/data/anaconda3/envs/mat/lib/python3.10/site-packages (from torchtext==0.16.0) (4.66.5)\n",
            "Requirement already satisfied: requests in /home/ubuntu/data/anaconda3/envs/mat/lib/python3.10/site-packages (from torchtext==0.16.0) (2.32.3)\n",
            "Requirement already satisfied: numpy in /home/ubuntu/data/anaconda3/envs/mat/lib/python3.10/site-packages (from torchtext==0.16.0) (1.26.4)\n",
            "Requirement already satisfied: torchdata==0.7.0 in /home/ubuntu/data/anaconda3/envs/mat/lib/python3.10/site-packages (from torchtext==0.16.0) (0.7.0)\n",
            "Requirement already satisfied: filelock in /home/ubuntu/data/anaconda3/envs/mat/lib/python3.10/site-packages (from torch==2.1.0) (3.13.1)\n",
            "Requirement already satisfied: typing-extensions in /home/ubuntu/data/anaconda3/envs/mat/lib/python3.10/site-packages (from torch==2.1.0) (4.11.0)\n",
            "Requirement already satisfied: sympy in /home/ubuntu/data/anaconda3/envs/mat/lib/python3.10/site-packages (from torch==2.1.0) (1.13.2)\n",
            "Requirement already satisfied: networkx in /home/ubuntu/data/anaconda3/envs/mat/lib/python3.10/site-packages (from torch==2.1.0) (3.2.1)\n",
            "Requirement already satisfied: jinja2 in /home/ubuntu/data/anaconda3/envs/mat/lib/python3.10/site-packages (from torch==2.1.0) (3.1.4)\n",
            "Requirement already satisfied: fsspec in /home/ubuntu/data/anaconda3/envs/mat/lib/python3.10/site-packages (from torch==2.1.0) (2024.9.0)\n",
            "Requirement already satisfied: nvidia-cuda-nvrtc-cu12==12.1.105 in /home/ubuntu/data/anaconda3/envs/mat/lib/python3.10/site-packages (from torch==2.1.0) (12.1.105)\n",
            "Requirement already satisfied: nvidia-cuda-runtime-cu12==12.1.105 in /home/ubuntu/data/anaconda3/envs/mat/lib/python3.10/site-packages (from torch==2.1.0) (12.1.105)\n",
            "Requirement already satisfied: nvidia-cuda-cupti-cu12==12.1.105 in /home/ubuntu/data/anaconda3/envs/mat/lib/python3.10/site-packages (from torch==2.1.0) (12.1.105)\n",
            "Requirement already satisfied: nvidia-cudnn-cu12==8.9.2.26 in /home/ubuntu/data/anaconda3/envs/mat/lib/python3.10/site-packages (from torch==2.1.0) (8.9.2.26)\n",
            "Requirement already satisfied: nvidia-cublas-cu12==12.1.3.1 in /home/ubuntu/data/anaconda3/envs/mat/lib/python3.10/site-packages (from torch==2.1.0) (12.1.3.1)\n",
            "Requirement already satisfied: nvidia-cufft-cu12==11.0.2.54 in /home/ubuntu/data/anaconda3/envs/mat/lib/python3.10/site-packages (from torch==2.1.0) (11.0.2.54)\n",
            "Requirement already satisfied: nvidia-curand-cu12==10.3.2.106 in /home/ubuntu/data/anaconda3/envs/mat/lib/python3.10/site-packages (from torch==2.1.0) (10.3.2.106)\n",
            "Requirement already satisfied: nvidia-cusolver-cu12==11.4.5.107 in /home/ubuntu/data/anaconda3/envs/mat/lib/python3.10/site-packages (from torch==2.1.0) (11.4.5.107)\n",
            "Requirement already satisfied: nvidia-cusparse-cu12==12.1.0.106 in /home/ubuntu/data/anaconda3/envs/mat/lib/python3.10/site-packages (from torch==2.1.0) (12.1.0.106)\n",
            "Requirement already satisfied: nvidia-nccl-cu12==2.18.1 in /home/ubuntu/data/anaconda3/envs/mat/lib/python3.10/site-packages (from torch==2.1.0) (2.18.1)\n",
            "Requirement already satisfied: nvidia-nvtx-cu12==12.1.105 in /home/ubuntu/data/anaconda3/envs/mat/lib/python3.10/site-packages (from torch==2.1.0) (12.1.105)\n",
            "Requirement already satisfied: triton==2.1.0 in /home/ubuntu/data/anaconda3/envs/mat/lib/python3.10/site-packages (from torch==2.1.0) (2.1.0)\n",
            "Requirement already satisfied: nvidia-nvjitlink-cu12 in /home/ubuntu/data/anaconda3/envs/mat/lib/python3.10/site-packages (from nvidia-cusolver-cu12==11.4.5.107->torch==2.1.0) (12.6.85)\n",
            "Requirement already satisfied: urllib3>=1.25 in /home/ubuntu/data/anaconda3/envs/mat/lib/python3.10/site-packages (from torchdata==0.7.0->torchtext==0.16.0) (2.2.2)\n",
            "Requirement already satisfied: MarkupSafe>=2.0 in /home/ubuntu/data/anaconda3/envs/mat/lib/python3.10/site-packages (from jinja2->torch==2.1.0) (2.1.3)\n",
            "Requirement already satisfied: charset-normalizer<4,>=2 in /home/ubuntu/data/anaconda3/envs/mat/lib/python3.10/site-packages (from requests->torchtext==0.16.0) (3.3.2)\n",
            "Requirement already satisfied: idna<4,>=2.5 in /home/ubuntu/data/anaconda3/envs/mat/lib/python3.10/site-packages (from requests->torchtext==0.16.0) (3.7)\n",
            "Requirement already satisfied: certifi>=2017.4.17 in /home/ubuntu/data/anaconda3/envs/mat/lib/python3.10/site-packages (from requests->torchtext==0.16.0) (2024.12.14)\n",
            "Requirement already satisfied: mpmath<1.4,>=1.1.0 in /home/ubuntu/data/anaconda3/envs/mat/lib/python3.10/site-packages (from sympy->torch==2.1.0) (1.3.0)\n",
            "Requirement already satisfied: einops in /home/ubuntu/data/anaconda3/envs/mat/lib/python3.10/site-packages (0.8.0)\n"
          ]
        }
      ],
      "source": [
        "!pip install torchtext==0.16.0 torch==2.1.0\n",
        "!pip install einops\n"
      ]
    },
    {
      "cell_type": "code",
      "execution_count": 2,
      "metadata": {
        "id": "tnxXKDjq3jEL"
      },
      "outputs": [
        {
          "name": "stdout",
          "output_type": "stream",
          "text": [
            "Using device: cuda:0\n"
          ]
        }
      ],
      "source": [
        "import numpy as np\n",
        "\n",
        "import typing\n",
        "from typing import Any, Tuple\n",
        "\n",
        "import einops\n",
        "import matplotlib.pyplot as plt\n",
        "import matplotlib.ticker as ticker\n",
        "\n",
        "import torch\n",
        "import torch.nn as nn\n",
        "import torch.optim as optim\n",
        "from torch.utils.data import Dataset, DataLoader\n",
        "\n",
        "from torchtext.vocab import build_vocab_from_iterator\n",
        "from torchtext.data.utils import get_tokenizer\n",
        "\n",
        "device = torch.device(\"cuda:0\" if torch.cuda.is_available() else \"cpu\")\n",
        "print(f\"Using device: {device}\")"
      ]
    },
    {
      "cell_type": "markdown",
      "metadata": {
        "id": "l_yq8kvIqoqQ"
      },
      "source": [
        "This tutorial uses a lot of low level API's where it's easy to get shapes wrong. This class is used to check shapes throughout the tutorial.\n"
      ]
    },
    {
      "cell_type": "code",
      "execution_count": 3,
      "metadata": {
        "id": "KqFqKi4fqN9X"
      },
      "outputs": [],
      "source": [
        "# ShapeChecker class to validate tensor shapes\n",
        "class ShapeChecker:\n",
        "    def __init__(self):\n",
        "        # Keep a cache of every axis-name seen\n",
        "        self.shapes = {}\n",
        "    \n",
        "    def __call__(self, tensor, names, broadcast=False):\n",
        "        if not torch.is_grad_enabled():\n",
        "            return\n",
        "    \n",
        "        parsed = einops.parse_shape(tensor, names)\n",
        "    \n",
        "        for name, new_dim in parsed.items():\n",
        "            old_dim = self.shapes.get(name, None)\n",
        "    \n",
        "            if broadcast and new_dim == 1:\n",
        "                continue\n",
        "    \n",
        "            if old_dim is None:\n",
        "                # If the axis name is new, add its length to the cache.\n",
        "                self.shapes[name] = new_dim\n",
        "                continue\n",
        "    \n",
        "            if new_dim != old_dim:\n",
        "                raise ValueError(f\"Shape mismatch for dimension: '{name}'\\n\"\n",
        "                                 f\"    found: {new_dim}\\n\"\n",
        "                                 f\"    expected: {old_dim}\\n\")\n"
      ]
    },
    {
      "cell_type": "markdown",
      "metadata": {
        "id": "gjUROhJfH3ML"
      },
      "source": [
        "## The data"
      ]
    },
    {
      "cell_type": "markdown",
      "metadata": {
        "id": "puE_K74DIE9W"
      },
      "source": [
        "The tutorial uses a language dataset provided by [Anki](http://www.manythings.org/anki/). This dataset contains language translation pairs in the format:\n",
        "\n",
        "```\n",
        "May I borrow this book?\t¿Puedo tomar prestado este libro?\n",
        "```\n",
        "\n",
        "They have a variety of languages available, but this example uses the English-Spanish dataset."
      ]
    },
    {
      "cell_type": "markdown",
      "metadata": {
        "id": "wfodePkj3jEa"
      },
      "source": [
        "### Download and prepare the dataset\n",
        "\n",
        "For convenience, a copy of this dataset is hosted on Google Cloud, but you can also download your own copy. After downloading the dataset, here are the steps you need to take to prepare the data:\n",
        "\n",
        "1. Add a *start* and *end* token to each sentence.\n",
        "2. Clean the sentences by removing special characters.\n",
        "3. Create a word index and reverse word index (dictionaries mapping from word → id and id → word).\n",
        "4. Pad each sentence to a maximum length."
      ]
    },
    {
      "cell_type": "code",
      "execution_count": 4,
      "metadata": {
        "id": "kRVATYOgJs1b"
      },
      "outputs": [],
      "source": [
        "import pathlib\n",
        "import requests\n",
        "import zipfile\n",
        "\n",
        "# Download the file\n",
        "url = 'http://storage.googleapis.com/download.tensorflow.org/data/spa-eng.zip'\n",
        "response = requests.get(url)\n",
        "with open('spa-eng.zip', 'wb') as f:\n",
        "    f.write(response.content)\n",
        "\n",
        "# Extract the zip file\n",
        "with zipfile.ZipFile('spa-eng.zip', 'r') as zip_ref:\n",
        "    zip_ref.extractall('.')\n",
        "\n",
        "path_to_file = pathlib.Path('spa-eng/spa.txt')"
      ]
    },
    {
      "cell_type": "code",
      "execution_count": 5,
      "metadata": {
        "id": "OHn4Dct23jEm"
      },
      "outputs": [],
      "source": [
        "def load_data(path):\n",
        "    text = path.read_text(encoding='utf-8')\n",
        "    \n",
        "    lines = text.splitlines()\n",
        "    pairs = [line.split('\\t') for line in lines]\n",
        "    \n",
        "    context = [context for target, context in pairs]\n",
        "    target = [target for target, context in pairs]\n",
        "    \n",
        "    return target, context"
      ]
    },
    {
      "cell_type": "code",
      "execution_count": 6,
      "metadata": {
        "id": "cTbSbBz55QtF"
      },
      "outputs": [
        {
          "name": "stdout",
          "output_type": "stream",
          "text": [
            "Si quieres sonar como un hablante nativo, debes estar dispuesto a practicar diciendo la misma frase una y otra vez de la misma manera en que un músico de banjo practica el mismo fraseo una y otra vez hasta que lo puedan tocar correctamente y en el tiempo esperado.\n"
          ]
        }
      ],
      "source": [
        "target_raw, context_raw = load_data(path_to_file)\n",
        "print(context_raw[-1])"
      ]
    },
    {
      "cell_type": "code",
      "execution_count": 7,
      "metadata": {
        "id": "lH_dPY8TRp3c"
      },
      "outputs": [
        {
          "name": "stdout",
          "output_type": "stream",
          "text": [
            "If you want to sound like a native speaker, you must be willing to practice saying the same sentence over and over in the same way that banjo players practice the same phrase over and over until they can play it correctly and at the desired tempo.\n"
          ]
        }
      ],
      "source": [
        "print(target_raw[-1])"
      ]
    },
    {
      "cell_type": "markdown",
      "metadata": {
        "id": "rgCLkfv5uO3d"
      },
      "source": [
        "### Create a dataset"
      ]
    },
    {
      "cell_type": "markdown",
      "metadata": {
        "id": "PfVWx3WaI5Df"
      },
      "source": [
        "BUFFER_SIZE is typically used in the context of shuffling your dataset. When you shuffle a dataset, it randomly reorders the elements, which is beneficial for training machine learning models to avoid any order-related biases.\n",
        "\n",
        "BATCH_SIZE specifies the number of elements (samples) that will be combined into a single batch in your dataset. Batching is used to improve training efficiency by processing multiple data points at once, which is particularly important when working with large datasets.\n",
        "\n",
        "From these arrays of strings you can create a `tf.data.Dataset` of strings that shuffles and batches them efficiently:"
      ]
    },
    {
      "cell_type": "code",
      "execution_count": 8,
      "metadata": {
        "id": "3rZFgz69nMPa"
      },
      "outputs": [],
      "source": [
        "BUFFER_SIZE = len(context_raw)\n",
        "BATCH_SIZE = 64\n",
        "\n",
        "# Split the data into training and validation sets (80-20 split)\n",
        "is_train = np.random.uniform(size=(len(target_raw),)) < 0.8\n",
        "\n",
        "train_context = [context_raw[i] for i in range(len(context_raw)) if is_train[i]]\n",
        "train_target = [target_raw[i] for i in range(len(target_raw)) if is_train[i]]\n",
        "\n",
        "val_context = [context_raw[i] for i in range(len(context_raw)) if not is_train[i]]\n",
        "val_target = [target_raw[i] for i in range(len(target_raw)) if not is_train[i]]\n",
        "\n",
        "# Define a custom Dataset\n",
        "class TranslationDataset(Dataset):\n",
        "    def __init__(self, contexts, targets):\n",
        "        self.contexts = contexts\n",
        "        self.targets = targets\n",
        "    \n",
        "    def __len__(self):\n",
        "        return len(self.contexts)\n",
        "    \n",
        "    def __getitem__(self, idx):\n",
        "        return self.contexts[idx], self.targets[idx]\n",
        "\n",
        "# Create Dataset instances\n",
        "train_dataset = TranslationDataset(train_context, train_target)\n",
        "val_dataset = TranslationDataset(val_context, val_target)\n",
        "\n",
        "# Create DataLoaders\n",
        "train_loader = DataLoader(train_dataset, batch_size=BATCH_SIZE, shuffle=True)\n",
        "val_loader = DataLoader(val_dataset, batch_size=BATCH_SIZE, shuffle=True)\n"
      ]
    },
    {
      "cell_type": "code",
      "execution_count": 9,
      "metadata": {
        "id": "qc6-NK1GtWQt"
      },
      "outputs": [
        {
          "name": "stdout",
          "output_type": "stream",
          "text": [
            "('Tom no cree que se vaya a meter en problemas.', 'Quiero un reporte completo antes de las 2:30.', 'Mi mujer lleva un vestido azul.', '¿Por qué tienes tantos gatos?', 'Mi abuelo sale a caminar todos los días.')\n",
            "\n",
            "(\"Tom doesn't think he'll get in trouble.\", 'I want a full report before 2:30.', 'My wife is wearing a blue dress.', 'Why do you have so many cats?', 'My grandfather goes for a walk every day.')\n"
          ]
        }
      ],
      "source": [
        "for example_context_strings, example_target_strings in train_loader:\n",
        "    print(example_context_strings[:5])\n",
        "    print()\n",
        "    print(example_target_strings[:5])\n",
        "    break"
      ]
    },
    {
      "cell_type": "markdown",
      "metadata": {
        "id": "zCoxLcuN3bwv"
      },
      "source": [
        "### Text preprocessing"
      ]
    },
    {
      "cell_type": "markdown",
      "metadata": {
        "id": "EOQ5n55X4uDB"
      },
      "source": [
        "#### Standardization"
      ]
    },
    {
      "cell_type": "markdown",
      "metadata": {
        "id": "upKhKAMK4zzI"
      },
      "source": [
        "The model is dealing with multilingual text with a limited vocabulary. So it will be important to standardize the input text.\n",
        "\n",
        "The first step is Unicode normalization to split accented characters and replace compatibility characters with their ASCII equivalents."
      ]
    },
    {
      "cell_type": "code",
      "execution_count": 10,
      "metadata": {
        "id": "mD0e-DWGQ2Vo"
      },
      "outputs": [
        {
          "name": "stdout",
          "output_type": "stream",
          "text": [
            "b'\\xc2\\xbfTodav\\xc3\\xada est\\xc3\\xa1 en casa?'\n",
            "b'\\xc2\\xbfTodavi\\xcc\\x81a esta\\xcc\\x81 en casa?'\n"
          ]
        }
      ],
      "source": [
        "example_text = '¿Todavía está en casa?'\n",
        "\n",
        "# Normalize UTF8 (Equivalent functionality can be achieved using Unicode normalization)\n",
        "import unicodedata\n",
        "\n",
        "def normalize_utf8(text):\n",
        "    return unicodedata.normalize('NFKD', text)\n",
        "\n",
        "print(example_text.encode('utf-8'))\n",
        "print(normalize_utf8(example_text).encode('utf-8'))"
      ]
    },
    {
      "cell_type": "markdown",
      "metadata": {
        "id": "6hTllEjK6RSo"
      },
      "source": [
        "Unicode normalization will be the first step in the text standardization function:"
      ]
    },
    {
      "cell_type": "code",
      "execution_count": 11,
      "metadata": {
        "id": "chTF5N885F0P"
      },
      "outputs": [],
      "source": [
        "def torch_lower_and_split_punct(text):\n",
        "    # Split accented characters.\n",
        "    text = unicodedata.normalize('NFKD', text)\n",
        "    text = text.lower()\n",
        "    # Keep space, a to z, and select punctuation.\n",
        "    import re\n",
        "    text = re.sub(r'[^ a-z.?!,¿]', '', text)\n",
        "    # Add spaces around punctuation.\n",
        "    text = re.sub(r'([.?!,¿])', r' \\1 ', text)\n",
        "    # Strip whitespace.\n",
        "    text = text.strip()\n",
        "    \n",
        "    text = '[START] ' + text + ' [END]'\n",
        "    return text"
      ]
    },
    {
      "cell_type": "code",
      "execution_count": 12,
      "metadata": {
        "id": "UREvDg3sEKYa"
      },
      "outputs": [
        {
          "name": "stdout",
          "output_type": "stream",
          "text": [
            "¿Todavía está en casa?\n",
            "[START] ¿ todavia esta en casa ? [END]\n"
          ]
        }
      ],
      "source": [
        "print(example_text)\n",
        "processed_text = torch_lower_and_split_punct(example_text)\n",
        "print(processed_text)"
      ]
    },
    {
      "cell_type": "markdown",
      "metadata": {
        "id": "4q-sKsSI7xRZ"
      },
      "source": [
        "#### Text Vectorization"
      ]
    },
    {
      "cell_type": "code",
      "execution_count": 13,
      "metadata": {
        "id": "eAY9k49G3jE_"
      },
      "outputs": [],
      "source": [
        "max_vocab_size = 5000\n",
        "\n",
        "# Initialize tokenizers\n",
        "tokenizer = get_tokenizer('basic_english')\n",
        "\n",
        "# Build vocabulary for context\n",
        "def build_vocab(data):\n",
        "    return build_vocab_from_iterator(map(tokenizer, data), specials=['[UNK]', '[START]', '[END]'], max_tokens=max_vocab_size)\n",
        "\n",
        "context_vocab = build_vocab(train_context)\n",
        "context_vocab.set_default_index(context_vocab['[UNK]'])\n",
        "\n",
        "# Similarly, build vocabulary for target\n",
        "target_vocab = build_vocab(train_target)\n",
        "target_vocab.set_default_index(target_vocab['[UNK]'])"
      ]
    },
    {
      "cell_type": "code",
      "execution_count": 14,
      "metadata": {
        "id": "bmsI1Yql8FYe"
      },
      "outputs": [
        {
          "name": "stdout",
          "output_type": "stream",
          "text": [
            "['[UNK]', '[START]', '[END]', '.', 'de', 'que', 'a', 'no', 'tom', 'la']\n"
          ]
        }
      ],
      "source": [
        "# Vocabulary has already been built in Cell 13\n",
        "# Display first 10 tokens in context vocabulary\n",
        "print(context_vocab.get_itos()[:10])"
      ]
    },
    {
      "cell_type": "markdown",
      "metadata": {
        "id": "9kGjIFjX8_Wp"
      },
      "source": [
        "That's the Spanish `TextVectorization` layer, now build and `.adapt()` the English one:"
      ]
    },
    {
      "cell_type": "code",
      "execution_count": 15,
      "metadata": {
        "id": "jlC4xuZnKLBS"
      },
      "outputs": [
        {
          "name": "stdout",
          "output_type": "stream",
          "text": [
            "['[UNK]', '[START]', '[END]', '.', \"'\", 'i', 'the', 'to', 'you', 'tom']\n"
          ]
        }
      ],
      "source": [
        "# Display first 10 tokens in target vocabulary\n",
        "print(target_vocab.get_itos()[:10])"
      ]
    },
    {
      "cell_type": "markdown",
      "metadata": {
        "id": "BWQqlP_s9eIv"
      },
      "source": [
        "Now these layers can convert a batch of strings into a batch of token IDs:"
      ]
    },
    {
      "cell_type": "code",
      "execution_count": 16,
      "metadata": {
        "id": "9KZxj8IrNZ9S"
      },
      "outputs": [
        {
          "name": "stdout",
          "output_type": "stream",
          "text": [
            "[tensor([   8,    7,  510,    5,   16,  559,    6, 3379,   12,  283,    3]), tensor([  47,   14, 3428, 1974,  128,    4,   31, 1124,  816,    3]), tensor([  24,  294,  431,   14,  687, 1097,    3])]\n"
          ]
        }
      ],
      "source": [
        "example_tokens = [torch.tensor(context_vocab(tokenizer(context))) for context in example_context_strings[:3]]\n",
        "print(example_tokens)"
      ]
    },
    {
      "cell_type": "markdown",
      "metadata": {
        "id": "AA9rUn9G9n78"
      },
      "source": [
        "The `get_vocabulary` method can be used to convert token IDs back to text:"
      ]
    },
    {
      "cell_type": "code",
      "execution_count": 17,
      "metadata": {
        "id": "98g9rcxGQY0I"
      },
      "outputs": [
        {
          "name": "stdout",
          "output_type": "stream",
          "text": [
            "tom no cree que se vaya a meter en problemas .\n"
          ]
        }
      ],
      "source": [
        "context_vocab_itos = context_vocab.get_itos()\n",
        "\n",
        "tokens = [context_vocab_itos[token] for token in example_tokens[0]]\n",
        "print(' '.join(tokens))"
      ]
    },
    {
      "cell_type": "markdown",
      "metadata": {
        "id": "Ot0aCL9t-Ghi"
      },
      "source": [
        "The returned token IDs are zero-padded. This can easily be turned into a mask:"
      ]
    },
    {
      "cell_type": "code",
      "execution_count": 18,
      "metadata": {
        "id": "_jx4Or_eFRSz"
      },
      "outputs": [
        {
          "data": {
            "image/png": "[encoded data removed]",
            "text/plain": [
              "<Figure size 640x480 with 2 Axes>"
            ]
          },
          "metadata": {},
          "output_type": "display_data"
        }
      ],
      "source": [
        "import torch\n",
        "\n",
        "# Convert list of tensors to a padded tensor\n",
        "from torch.nn.utils.rnn import pad_sequence\n",
        "\n",
        "example_tokens_padded = pad_sequence(example_tokens, batch_first=True, padding_value=0)\n",
        "\n",
        "plt.subplot(1, 2, 1)\n",
        "plt.imshow(example_tokens_padded.numpy(), aspect='auto', cmap='viridis')\n",
        "plt.title('Token IDs')\n",
        "\n",
        "plt.subplot(1, 2, 2)\n",
        "plt.imshow(example_tokens_padded != 0, aspect='auto', cmap='gray')\n",
        "plt.title('Mask')\n",
        "\n",
        "plt.show()"
      ]
    },
    {
      "cell_type": "code",
      "execution_count": 19,
      "metadata": {
        "id": "0zq6g05m7REr"
      },
      "outputs": [
        {
          "name": "stdout",
          "output_type": "stream",
          "text": [
            "[[1 1 1 1 1 1 1 1]\n",
            " [0 1 1 1 1 1 1 1]\n",
            " [0 0 1 1 1 1 1 1]\n",
            " [0 0 0 1 1 1 1 1]\n",
            " [0 0 0 0 1 1 1 1]\n",
            " [0 0 0 0 0 1 1 1]\n",
            " [0 0 0 0 0 0 1 1]\n",
            " [0 0 0 0 0 0 0 1]]\n"
          ]
        }
      ],
      "source": [
        "# Create an upper triangular matrix\n",
        "matrix_size = 8\n",
        "matrix = np.zeros((matrix_size, matrix_size), dtype=int)\n",
        "for i in range(matrix_size):\n",
        "    for j in range(i, matrix_size):\n",
        "        matrix[i, j] = 1\n",
        "\n",
        "print(matrix)"
      ]
    },
    {
      "cell_type": "markdown",
      "metadata": {
        "id": "3O0B4XdFlRgc"
      },
      "source": [
        "### Process the dataset\n",
        "\n"
      ]
    },
    {
      "cell_type": "code",
      "execution_count": 20,
      "metadata": {
        "id": "wk5tbZWQl5u1"
      },
      "outputs": [],
      "source": [
        "# Cell 20\n",
        "import torch\n",
        "from torch.utils.data import Dataset, DataLoader\n",
        "from torch.nn.utils.rnn import pad_sequence\n",
        "\n",
        "def process_text(context, target, context_vocab, target_vocab, tokenizer, preprocess_func):\n",
        "    # Preprocess and tokenize context\n",
        "    context_processed = preprocess_func(context)\n",
        "    context_tokens = context_vocab(tokenizer(context_processed))\n",
        "    context_tensor = torch.tensor(context_tokens, dtype=torch.long)\n",
        "    \n",
        "    # Preprocess and tokenize target\n",
        "    target_processed = preprocess_func(target)\n",
        "    target_tokens = target_vocab(tokenizer(target_processed))\n",
        "    target_tensor = torch.tensor(target_tokens, dtype=torch.long)\n",
        "    \n",
        "    # Create input and output for target (shifted by one)\n",
        "    targ_in = target_tensor[:-1]\n",
        "    targ_out = target_tensor[1:]\n",
        "    \n",
        "    return context_tensor, targ_in, targ_out\n",
        "\n",
        "class TranslationDataset(Dataset):\n",
        "    def __init__(self, contexts, targets, context_vocab, target_vocab, tokenizer, preprocess_func):\n",
        "        self.contexts = contexts\n",
        "        self.targets = targets\n",
        "        self.context_vocab = context_vocab\n",
        "        self.target_vocab = target_vocab\n",
        "        self.tokenizer = tokenizer\n",
        "        self.preprocess = preprocess_func\n",
        "    \n",
        "    def __len__(self):\n",
        "        return len(self.contexts)\n",
        "    \n",
        "    def __getitem__(self, idx):\n",
        "        context = self.contexts[idx]\n",
        "        target = self.targets[idx]\n",
        "        return process_text(context, target, self.context_vocab, self.target_vocab, self.tokenizer, self.preprocess)\n",
        "\n",
        "# Define a collate function to pad sequences\n",
        "def collate_fn(batch):\n",
        "    contexts, targ_ins, targ_outs = zip(*batch)\n",
        "    contexts_padded = pad_sequence(contexts, batch_first=True, padding_value=0)\n",
        "    targ_ins_padded = pad_sequence(targ_ins, batch_first=True, padding_value=0)\n",
        "    targ_outs_padded = pad_sequence(targ_outs, batch_first=True, padding_value=0)\n",
        "    return contexts_padded, targ_ins_padded, targ_outs_padded\n",
        "\n",
        "# Cell 8 (Updated)\n",
        "BUFFER_SIZE = len(context_raw)\n",
        "BATCH_SIZE = 64\n",
        "\n",
        "# Split the data into training and validation sets (80-20 split)\n",
        "is_train = np.random.uniform(size=(len(target_raw),)) < 0.8\n",
        "\n",
        "train_context = [context_raw[i] for i in range(len(context_raw)) if is_train[i]]\n",
        "train_target = [target_raw[i] for i in range(len(target_raw)) if is_train[i]]\n",
        "\n",
        "val_context = [context_raw[i] for i in range(len(context_raw)) if not is_train[i]]\n",
        "val_target = [target_raw[i] for i in range(len(target_raw)) if not is_train[i]]\n",
        "\n",
        "# Initialize the Dataset instances\n",
        "train_dataset = TranslationDataset(\n",
        "    train_context, train_target,\n",
        "    context_vocab, target_vocab,\n",
        "    tokenizer, torch_lower_and_split_punct\n",
        ")\n",
        "\n",
        "val_dataset = TranslationDataset(\n",
        "    val_context, val_target,\n",
        "    context_vocab, target_vocab,\n",
        "    tokenizer, torch_lower_and_split_punct\n",
        ")\n",
        "\n",
        "# Create DataLoaders\n",
        "train_loader = DataLoader(train_dataset, batch_size=BATCH_SIZE, shuffle=True, collate_fn=collate_fn)\n",
        "val_loader = DataLoader(val_dataset, batch_size=BATCH_SIZE, shuffle=False, collate_fn=collate_fn)\n"
      ]
    },
    {
      "cell_type": "markdown",
      "metadata": {
        "id": "4iGi7X2m_tbM"
      },
      "source": [
        "Here is the first sequence of each, from the first batch:"
      ]
    },
    {
      "cell_type": "code",
      "execution_count": 21,
      "metadata": {
        "id": "woQBWAjLsJkr"
      },
      "outputs": [
        {
          "name": "stdout",
          "output_type": "stream",
          "text": [
            "[   0   13   11 1927    5    0   29    3    0    0]\n",
            "\n",
            "[   0   24   12    6  454   18   32 1096    3    0]\n",
            "[  24   12    6  454   18   32 1096    3    0    0]\n"
          ]
        }
      ],
      "source": [
        "# Display processed tensors from the training set\n",
        "for ex_context_tok, ex_tar_in, ex_tar_out in train_loader:\n",
        "    print(ex_context_tok[0, :10].numpy())\n",
        "    print()\n",
        "    print(ex_tar_in[0, :10].numpy())\n",
        "    print(ex_tar_out[0, :10].numpy())\n",
        "    break\n"
      ]
    },
    {
      "cell_type": "markdown",
      "metadata": {
        "id": "TNfHIF71ulLu"
      },
      "source": [
        "## The encoder/decoder\n",
        "\n",
        "The following diagrams shows an overview of the model. In both the encoder is on the left, the decoder is on the right. At each time-step the decoder's output is combined with the encoder's output, to predict the next word.\n",
        "\n",
        "The original [left] contains a few extra connections that are intentionally omitted from this tutorial's model [right], as they are generally unnecessary, and difficult to implement. Those missing connections are:\n",
        "\n",
        "1. Feeding the state from the encoder's RNN to the decoder's RNN\n",
        "2. Feeding the attention output back to the RNN's input.\n",
        "\n",
        "<table>\n",
        "<tr>\n",
        "  <td>\n",
        "   <img width=500 src=\"https://www.tensorflow.org/images/seq2seq/attention_mechanism.jpg\"/>\n",
        "  </td>\n",
        "  <td>\n",
        "   <img width=380 src=\"https://www.tensorflow.org/images/tutorials/transformer/RNN+attention.png\"/>\n",
        "  </td>\n",
        "</tr>\n",
        "<tr>\n",
        "  <th colspan=1>The original from <a href=https://arxiv.org/abs/1508.04025v5>Effective Approaches to Attention-based Neural Machine Translation</a></th>\n",
        "  <th colspan=1>This tutorial's model</th>\n",
        "<tr>\n",
        "</table>\n"
      ]
    },
    {
      "cell_type": "markdown",
      "metadata": {
        "id": "gzQWx2saImMV"
      },
      "source": [
        "Before getting into it define constants for the model:"
      ]
    },
    {
      "cell_type": "code",
      "execution_count": 22,
      "metadata": {
        "id": "_a9uNz3-IrF-"
      },
      "outputs": [],
      "source": [
        "UNITS = 256"
      ]
    },
    {
      "cell_type": "markdown",
      "metadata": {
        "id": "blNgVbLSzpsr"
      },
      "source": [
        "### The encoder\n",
        "\n",
        "The goal of the encoder is to process the context sequence into a sequence of vectors that are useful for the decoder as it attempts to predict the next output for each timestep. Since the context sequence is constant, there is no restriction on how information can flow in the encoder, so use a bidirectional-RNN to do the processing:\n",
        "\n",
        "<table>\n",
        "<tr>\n",
        "  <td>\n",
        "   <img width=500 src=\"https://tensorflow.org/images/tutorials/transformer/RNN-bidirectional.png\"/>\n",
        "  </td>\n",
        "</tr>\n",
        "<tr>\n",
        "  <th>A bidirectional RNN</th>\n",
        "<tr>\n",
        "</table>\n",
        "\n",
        "The encoder:\n",
        "\n",
        "1. Takes a list of token IDs (from `context_text_processor`).\n",
        "3. Looks up an embedding vector for each token (Using a `layers.Embedding`).\n",
        "4. Processes the embeddings into a new sequence (Using a bidirectional `layers.GRU`).\n",
        "5. Returns the processed sequence. This will be passed to the attention head."
      ]
    },
    {
      "cell_type": "code",
      "execution_count": 23,
      "metadata": {
        "id": "nZ2rI24i3jFg"
      },
      "outputs": [],
      "source": [
        "class Encoder(nn.Module):\n",
        "    def __init__(self, vocab_size, embedding_dim, hidden_size):\n",
        "        super(Encoder, self).__init__()\n",
        "        self.embedding = nn.Embedding(vocab_size, embedding_dim, padding_idx=0)\n",
        "        self.gru = nn.GRU(embedding_dim, hidden_size, bidirectional=True, batch_first=True)\n",
        "    \n",
        "    def forward(self, x):\n",
        "        \"\"\"\n",
        "        Forward pass through the encoder.\n",
        "        \n",
        "        Args:\n",
        "            x (Tensor): Input tokens, shape [batch, s]\n",
        "        \n",
        "        Returns:\n",
        "            Tensor: Encoder outputs, shape [batch, s, hidden_size]\n",
        "        \"\"\"\n",
        "        embedded = self.embedding(x)  # [batch, s, embedding_dim]\n",
        "        outputs, hidden = self.gru(embedded)  # outputs: [batch, s, 2*hidden_size]\n",
        "        # Sum bidirectional outputs\n",
        "        outputs = outputs[:, :, :self.gru.hidden_size] + outputs[:, :, self.gru.hidden_size:]\n",
        "        return outputs  # [batch, s, hidden_size]\n",
        "    \n",
        "    def convert_input(self, texts):\n",
        "        \"\"\"\n",
        "        Converts a list of texts to tensor inputs for the encoder.\n",
        "\n",
        "        Args:\n",
        "            texts (List[str]): List of input sentences\n",
        "\n",
        "        Returns:\n",
        "            Tensor: Padded token indices, shape [batch, s]\n",
        "        \"\"\"\n",
        "        processed_texts = [torch_lower_and_split_punct(text) for text in texts]\n",
        "        tokenized = [tokenizer(text) for text in processed_texts]\n",
        "        encoded = [context_vocab(tokens) for tokens in tokenized]\n",
        "        # Convert each list of token indices to a tensor\n",
        "        encoded_tensors = [torch.tensor(tokens, dtype=torch.long) for tokens in encoded]\n",
        "        # Pad the sequences to create a uniform tensor\n",
        "        padded = pad_sequence(encoded_tensors, batch_first=True, padding_value=0)\n",
        "        return padded  # [batch, s]\n"
      ]
    },
    {
      "cell_type": "markdown",
      "metadata": {
        "id": "D3SKkaQeGn-Q"
      },
      "source": [
        "Try it out:"
      ]
    },
    {
      "cell_type": "code",
      "execution_count": 24,
      "metadata": {
        "id": "60gSVh05Jl6l"
      },
      "outputs": [
        {
          "name": "stdout",
          "output_type": "stream",
          "text": [
            "Context tokens, shape (batch, s): torch.Size([64, 17])\n",
            "Encoder output, shape (batch, s, units): torch.Size([64, 17, 256])\n"
          ]
        }
      ],
      "source": [
        "# Initialize Encoder\n",
        "encoder = Encoder(vocab_size=len(context_vocab), embedding_dim=UNITS, hidden_size=UNITS)\n",
        "\n",
        "# Example context from the previous batch\n",
        "ex_context = encoder(ex_context_tok)\n",
        "\n",
        "print(f'Context tokens, shape (batch, s): {ex_context_tok.shape}')\n",
        "print(f'Encoder output, shape (batch, s, units): {ex_context.shape}')"
      ]
    },
    {
      "cell_type": "markdown",
      "metadata": {
        "id": "45xM_Gl1MgXY"
      },
      "source": [
        "### The attention layer\n",
        "\n",
        "The attention layer lets the decoder access the information extracted by the encoder. It computes a vector from the entire context sequence, and adds that to the decoder's output.\n",
        "\n",
        "The simplest way you could calculate a single vector from the entire sequence would be to take the average across the sequence (`layers.GlobalAveragePooling1D`). An attention layer is similar, but calculates a **weighted** average across the context sequence. Where the weights are calculated from the combination of context and \"query\" vectors.\n",
        "\n",
        "<table>\n",
        "<tr>\n",
        "  <td>\n",
        "   <img width=500 src=\"https://www.tensorflow.org/images/tutorials/transformer/CrossAttention-new-full.png\"/>\n",
        "  </td>\n",
        "</tr>\n",
        "<tr>\n",
        "  <th colspan=1>The attention layer</th>\n",
        "<tr>\n",
        "</table>"
      ]
    },
    {
      "cell_type": "code",
      "execution_count": 25,
      "metadata": {
        "id": "-Ql3ymqwD8LS"
      },
      "outputs": [],
      "source": [
        "# CrossAttention Class\n",
        "class CrossAttention(nn.Module):\n",
        "    def __init__(self, hidden_size, num_heads=1):\n",
        "        super(CrossAttention, self).__init__()\n",
        "        self.multihead_attn = nn.MultiheadAttention(embed_dim=hidden_size, num_heads=num_heads, batch_first=True)\n",
        "        self.layer_norm = nn.LayerNorm(hidden_size)\n",
        "        self.add = nn.Identity() \n",
        "\n",
        "    def forward(self, x, context):\n",
        "        \"\"\"\n",
        "        Forward pass through the CrossAttention layer.\n",
        "\n",
        "        Args:\n",
        "            x (Tensor): Query tensor, shape [batch, t, hidden_size]\n",
        "            context (Tensor): Key and Value tensors, shape [batch, s, hidden_size]\n",
        "\n",
        "        Returns:\n",
        "            Tensor: Output tensor after attention, shape [batch, t, hidden_size]\n",
        "        \"\"\"\n",
        "        # x: [batch, t, hidden_size]\n",
        "        # context: [batch, s, hidden_size]\n",
        "        attn_output, attn_weights = self.multihead_attn(query=x, key=context, value=context, need_weights=True)\n",
        "        # attn_output: [batch, t, hidden_size]\n",
        "        # attn_weights: [batch, t, s]\n",
        "\n",
        "        # Cache the attention weights for plotting later\n",
        "        self.last_attention_weights = attn_weights.mean(dim=1)  # Averaging over heads if multiple\n",
        "\n",
        "        # Add & Normalize\n",
        "        x = self.add(x + attn_output)\n",
        "        x = self.layer_norm(x)\n",
        "        return x\n"
      ]
    },
    {
      "cell_type": "code",
      "execution_count": 26,
      "metadata": {
        "id": "7y7hjPkNMmHh"
      },
      "outputs": [
        {
          "name": "stdout",
          "output_type": "stream",
          "text": [
            "Context sequence, shape (batch, s, units): torch.Size([64, 17, 256])\n",
            "Target sequence, shape (batch, t, units): torch.Size([64, 17, 256])\n",
            "Attention result, shape (batch, t, units): torch.Size([64, 17, 256])\n",
            "Attention weights, shape (batch, t, s): torch.Size([64, 17])\n"
          ]
        }
      ],
      "source": [
        "# Initialize Attention Layer\n",
        "attention_layer = CrossAttention(hidden_size=UNITS)\n",
        "\n",
        "# Initialize target embedding\n",
        "class TargetEmbedding(nn.Module):\n",
        "    def __init__(self, vocab_size, embedding_dim):\n",
        "        super(TargetEmbedding, self).__init__()\n",
        "        self.embedding = nn.Embedding(vocab_size, embedding_dim, padding_idx=0)\n",
        "    \n",
        "    def forward(self, x):\n",
        "        return self.embedding(x)\n",
        "\n",
        "target_embedding = TargetEmbedding(vocab_size=len(target_vocab), embedding_dim=UNITS)\n",
        "\n",
        "# Example target input from the previous batch\n",
        "ex_tar_embed = target_embedding(ex_tar_in)\n",
        "\n",
        "# Apply attention\n",
        "result = attention_layer(ex_tar_embed, ex_context)\n",
        "\n",
        "print(f'Context sequence, shape (batch, s, units): {ex_context.shape}')\n",
        "print(f'Target sequence, shape (batch, t, units): {ex_tar_embed.shape}')\n",
        "print(f'Attention result, shape (batch, t, units): {result.shape}')\n",
        "print(f'Attention weights, shape (batch, t, s): {attention_layer.last_attention_weights.shape}')"
      ]
    },
    {
      "cell_type": "markdown",
      "metadata": {
        "id": "vx9fUhi3Pmwp"
      },
      "source": [
        "The attention weights will sum to `1` over the context sequence, at each location in the target sequence."
      ]
    },
    {
      "cell_type": "code",
      "execution_count": 27,
      "metadata": {
        "id": "zxyR7cmQPn9P"
      },
      "outputs": [
        {
          "name": "stdout",
          "output_type": "stream",
          "text": [
            "tensor(1.0000, grad_fn=<SumBackward1>)\n"
          ]
        }
      ],
      "source": [
        "# Sum of attention weights should be close to 1 for each token\n",
        "print(attention_layer.last_attention_weights[0].sum(dim=-1))"
      ]
    },
    {
      "cell_type": "markdown",
      "metadata": {
        "id": "AagyXMH-Jhqt"
      },
      "source": [
        "\n",
        "\n",
        "Here are the attention weights across the context sequences at `t=0`:"
      ]
    },
    {
      "cell_type": "code",
      "execution_count": 28,
      "metadata": {
        "id": "Rqr8XGsAJlf6"
      },
      "outputs": [
        {
          "data": {
            "image/png": "[encoded data removed]",
            "text/plain": [
              "<Figure size 640x480 with 2 Axes>"
            ]
          },
          "metadata": {},
          "output_type": "display_data"
        }
      ],
      "source": [
        "attention_weights = attention_layer.last_attention_weights.detach().numpy()\n",
        "mask = (ex_context_tok != 0).numpy()\n",
        "\n",
        "plt.subplot(1, 2, 1)\n",
        "plt.imshow(mask * attention_weights, aspect='auto', cmap='viridis')\n",
        "plt.title('Attention weights')\n",
        "\n",
        "plt.subplot(1, 2, 2)\n",
        "plt.imshow(mask, aspect='auto', cmap='gray')\n",
        "plt.title('Mask')\n",
        "\n",
        "plt.show()"
      ]
    },
    {
      "cell_type": "markdown",
      "metadata": {
        "id": "6Eil-C_NN1rp"
      },
      "source": [
        "Because of the small-random initialization the attention weights are initially all close to `1/(sequence_length)`. The model will learn to make these less uniform as training progresses."
      ]
    },
    {
      "cell_type": "markdown",
      "metadata": {
        "id": "aQ638eHN4iCK"
      },
      "source": [
        "### The decoder\n",
        "\n",
        "The decoder's job is to generate predictions for the next token at each location in the target sequence.\n",
        "\n",
        "1. It looks up embeddings for each token in the target sequence.\n",
        "2. It uses an RNN to process the target sequence, and keep track of what it has generated so far.\n",
        "3. It uses RNN output as the \"query\" to the attention layer, when attending to the encoder's output.\n",
        "4. At each location in the output it predicts the next token.\n",
        "\n",
        "When training, the model predicts the next word at each location. So it's important that the information only flows in one direction through the model. The decoder uses a unidirectional (not bidirectional) RNN to process the target sequence.\n",
        "\n",
        "When running inference with this model it produces one word at a time, and those are fed back into the model.\n",
        "\n",
        "<table>\n",
        "<tr>\n",
        "  <td>\n",
        "   <img width=500 src=\"https://tensorflow.org/images/tutorials/transformer/RNN.png\"/>\n",
        "  </td>\n",
        "</tr>\n",
        "<tr>\n",
        "  <th>A unidirectional RNN</th>\n",
        "<tr>\n",
        "</table>"
      ]
    },
    {
      "cell_type": "markdown",
      "metadata": {
        "id": "pZsQJMqNmg_L"
      },
      "source": [
        "Here is the `Decoder` class' initializer. The initializer creates all the necessary layers."
      ]
    },
    {
      "cell_type": "code",
      "execution_count": 29,
      "metadata": {
        "id": "erYvHIgAl8kh"
      },
      "outputs": [],
      "source": [
        "class Decoder(nn.Module):\n",
        "    def __init__(self, vocab_size, embedding_dim, hidden_size, target_vocab):\n",
        "        super(Decoder, self).__init__()\n",
        "        self.vocab_size = vocab_size\n",
        "        self.embedding = nn.Embedding(vocab_size, embedding_dim, padding_idx=0)\n",
        "        self.gru = nn.GRU(embedding_dim, hidden_size, batch_first=True)\n",
        "        self.attention = CrossAttention(hidden_size)\n",
        "        self.output_layer = nn.Linear(hidden_size, vocab_size)\n",
        "        \n",
        "        # Utilize the existing target_vocab for word_to_id and id_to_word\n",
        "        self.target_vocab = target_vocab\n",
        "        self.id_to_word = target_vocab.get_itos()\n",
        "    \n",
        "    def forward(self, context, x, state=None):\n",
        "        \"\"\"\n",
        "        Forward pass through the decoder.\n",
        "\n",
        "        Args:\n",
        "            context (Tensor): Encoder outputs, shape [batch, s, units] or [s, units]\n",
        "            x (Tensor): Target input tokens, shape [batch, t]\n",
        "            state (Tensor, optional): Initial hidden state for GRU\n",
        "\n",
        "        Returns:\n",
        "            logits (Tensor): Logits for each token, shape [batch, t, vocab_size]\n",
        "            state (Tensor): Updated hidden state\n",
        "        \"\"\"\n",
        "        # Ensure context has 3 dimensions: [batch, s, units]\n",
        "        if context.dim() == 2:\n",
        "            context = context.unsqueeze(0).float()  # Add batch dimension\n",
        "\n",
        "        embedded = self.embedding(x)  # [batch, t, embedding_dim]\n",
        "        output, state = self.gru(embedded, state)  # [batch, t, hidden_size]\n",
        "        output = self.attention(output, context)  # [batch, t, hidden_size]\n",
        "        logits = self.output_layer(output)  # [batch, t, vocab_size]\n",
        "        return logits, state"
      ]
    },
    {
      "cell_type": "markdown",
      "metadata": {
        "id": "Sd8-nRNzFR8x"
      },
      "source": [
        "#### Training"
      ]
    },
    {
      "cell_type": "markdown",
      "metadata": {
        "id": "UPnaw583CpnY"
      },
      "source": [
        "Next, the `call` method, takes 3 arguments:\n",
        "\n",
        "* `inputs` -  a `context, x` pair where:\n",
        "  * `context` - is the context from the encoder's output.\n",
        "  * `x` - is the target sequence input.\n",
        "* `state` - Optional, the previous `state` output from the decoder (the internal state of the decoder's RNN). Pass the state from a previous run to continue generating text where you left off.\n",
        "* `return_state` - [Default: False] - Set this to `True` to return the RNN state."
      ]
    },
    {
      "cell_type": "markdown",
      "metadata": {
        "id": "E1-mLAcUEXpK"
      },
      "source": [
        "That will be sufficient for training. Create an instance of the decoder to test out:"
      ]
    },
    {
      "cell_type": "markdown",
      "metadata": {
        "id": "SFWaI4wqzt4t"
      },
      "source": [
        "In training you'll use the decoder like this:\n",
        "\n",
        "Given the context and target tokens, for each target token it predicts the next target token."
      ]
    },
    {
      "cell_type": "code",
      "execution_count": 30,
      "metadata": {
        "id": "5YM-lD7bzx18"
      },
      "outputs": [
        {
          "name": "stdout",
          "output_type": "stream",
          "text": [
            "Encoder output shape: torch.Size([64, 17, 256])\n",
            "Input target tokens shape: torch.Size([64, 17])\n",
            "Logits shape: torch.Size([64, 17, 5000])\n"
          ]
        }
      ],
      "source": [
        "# Initialize Decoder with corrected class\n",
        "decoder = Decoder(\n",
        "    vocab_size=len(target_vocab),\n",
        "    embedding_dim=UNITS,\n",
        "    hidden_size=UNITS,\n",
        "    target_vocab=target_vocab\n",
        ")\n",
        "\n",
        "# Example usage\n",
        "logits, _ = decoder(ex_context, ex_tar_in)\n",
        "\n",
        "print(f'Encoder output shape: {ex_context.shape}')\n",
        "print(f'Input target tokens shape: {ex_tar_in.shape}')\n",
        "print(f'Logits shape: {logits.shape}')"
      ]
    },
    {
      "cell_type": "markdown",
      "metadata": {
        "id": "zhS_tbk7VQkX"
      },
      "source": [
        "#### Inference\n",
        "\n",
        "To use it for inference you'll need a couple more methods:"
      ]
    },
    {
      "cell_type": "code",
      "execution_count": 31,
      "metadata": {
        "id": "SPm12cnIVRQr"
      },
      "outputs": [],
      "source": [
        "def get_initial_state(self, context):\n",
        "    \"\"\"\n",
        "    Initializes the decoder's hidden state.\n",
        "    \n",
        "    Args:\n",
        "        context (Tensor): Encoder outputs, shape [batch, s, units]\n",
        "    \n",
        "    Returns:\n",
        "        start_tokens (Tensor): Tensor of [START] tokens, shape [batch, 1]\n",
        "        done (Tensor): Tensor indicating completion, shape [batch, 1]\n",
        "        state (Tensor): Initial hidden state, shape [1, batch, hidden_size]\n",
        "    \"\"\"\n",
        "    batch_size = context.size(0)\n",
        "    start_token_id = self.target_vocab['[START]']\n",
        "    start_tokens = torch.full((batch_size, 1), start_token_id, dtype=torch.long, device=context.device)\n",
        "    done = torch.zeros(batch_size, 1, dtype=torch.bool, device=context.device)\n",
        "    # Initialize hidden state to zeros\n",
        "    state = torch.zeros(1, batch_size, self.gru.hidden_size, device=context.device)\n",
        "    return start_tokens, done, state\n",
        "\n",
        "Decoder.get_initial_state = get_initial_state"
      ]
    },
    {
      "cell_type": "code",
      "execution_count": 32,
      "metadata": {
        "id": "TzeOhpBvVS5L"
      },
      "outputs": [],
      "source": [
        "def tokens_to_text(self, tokens):\n",
        "    \"\"\"\n",
        "    Converts token IDs to human-readable text.\n",
        "    \n",
        "    Args:\n",
        "        tokens (Tensor): Token IDs, shape [batch, t]\n",
        "    \n",
        "    Returns:\n",
        "        List[str]: List of decoded strings for each batch item\n",
        "    \"\"\"\n",
        "    # tokens: [batch, t]\n",
        "    texts = []\n",
        "    for token_seq in tokens.tolist():\n",
        "        words = []\n",
        "        for token in token_seq:\n",
        "            word = self.id_to_word[token]\n",
        "            if word == '[START]':\n",
        "                continue\n",
        "            elif word == '[END]':\n",
        "                break\n",
        "            else:\n",
        "                words.append(word)\n",
        "        text = ' '.join(words)\n",
        "        texts.append(text)\n",
        "    return texts\n",
        "\n",
        "Decoder.tokens_to_text = tokens_to_text"
      ]
    },
    {
      "cell_type": "code",
      "execution_count": 33,
      "metadata": {
        "id": "v6ildnz_V1MA"
      },
      "outputs": [],
      "source": [
        "def get_next_token(self, context, next_token, done, state, temperature=0.0):\n",
        "    \"\"\"\n",
        "    Generates the next token in the sequence.\n",
        "    \n",
        "    Args:\n",
        "        context (Tensor): Encoder outputs, shape [batch, s, units]\n",
        "        next_token (Tensor): Current token IDs, shape [batch, 1]\n",
        "        done (Tensor): Completion flags, shape [batch, 1]\n",
        "        state (Tensor): Current hidden state, shape [1, batch, hidden_size]\n",
        "        temperature (float, optional): Sampling temperature\n",
        "    \n",
        "    Returns:\n",
        "        next_token (Tensor): Next token IDs, shape [batch, 1]\n",
        "        done (Tensor): Updated completion flags, shape [batch, 1]\n",
        "        state (Tensor): Updated hidden state\n",
        "    \"\"\"\n",
        "    logits, state = self.forward(context, next_token, state)  # logits: [batch, 1, vocab_size]\n",
        "    logits = logits[:, -1, :]  # [batch, vocab_size]\n",
        "    \n",
        "    if temperature == 0.0:\n",
        "        # Greedy decoding\n",
        "        next_token = torch.argmax(logits, dim=-1, keepdim=True)  # [batch, 1]\n",
        "    else:\n",
        "        # Sampling with temperature\n",
        "        logits = logits / temperature\n",
        "        probabilities = torch.softmax(logits, dim=-1)  # [batch, vocab_size]\n",
        "        next_token = torch.multinomial(probabilities, num_samples=1)  # [batch, 1]\n",
        "    \n",
        "    # Update done flags where [END] token is generated\n",
        "    end_token_id = self.target_vocab['[END]']\n",
        "    done = done | (next_token == end_token_id)  # [batch, 1]\n",
        "    \n",
        "    # Replace tokens where done is True with 0 (padding)\n",
        "    next_token = torch.where(done, torch.zeros_like(next_token), next_token)  # [batch, 1]\n",
        "    \n",
        "    return next_token, done, state\n",
        "\n",
        "Decoder.get_next_token = get_next_token"
      ]
    },
    {
      "cell_type": "markdown",
      "metadata": {
        "id": "9WiXLrVs-FTE"
      },
      "source": [
        "With those extra functions, you can write a generation loop:"
      ]
    },
    {
      "cell_type": "code",
      "execution_count": 34,
      "metadata": {
        "id": "SuehagxL-JBZ"
      },
      "outputs": [
        {
          "name": "stdout",
          "output_type": "stream",
          "text": [
            "['childish option socks finds eighty stir politics protect hobbies wet', 'suit seated happier giving policeman limits disturbing oxygen message rejected', 'needed split pet seems balloon ll side memorize darwin title']\n"
          ]
        }
      ],
      "source": [
        "# Setup the loop variables.\n",
        "next_token, done, state = decoder.get_initial_state(ex_context)\n",
        "tokens = []\n",
        "\n",
        "for _ in range(10):\n",
        "    # Run one step.\n",
        "    next_token, done, state = decoder.get_next_token(\n",
        "        ex_context, next_token, done, state, temperature=1.0)\n",
        "    # Add the token to the output.\n",
        "    tokens.append(next_token)\n",
        "    \n",
        "# Concatenate all tokens\n",
        "tokens = torch.cat(tokens, dim=1)  # [batch, t]\n",
        "\n",
        "# Convert tokens to text\n",
        "result = decoder.tokens_to_text(tokens)\n",
        "print(result[:3])"
      ]
    },
    {
      "cell_type": "markdown",
      "metadata": {
        "id": "5ALTdqCMLGSY"
      },
      "source": [
        "Since the model's untrained, it outputs items from the vocabulary almost uniformly at random."
      ]
    },
    {
      "cell_type": "markdown",
      "metadata": {
        "id": "B6xyru86m914"
      },
      "source": [
        "## The model\n",
        "\n",
        "Now that you have all the model components, combine them to build the model for training:"
      ]
    },
    {
      "cell_type": "code",
      "execution_count": 35,
      "metadata": {
        "id": "WWIyuy71TkJT"
      },
      "outputs": [],
      "source": [
        "class Translator(nn.Module):\n",
        "    def __init__(self, encoder, decoder):\n",
        "        super(Translator, self).__init__()\n",
        "        self.encoder = encoder\n",
        "        self.decoder = decoder\n",
        "    \n",
        "    def forward(self, context, x):\n",
        "        context_encoded = self.encoder(context)\n",
        "        logits, _ = self.decoder(context_encoded, x)\n",
        "        return logits\n",
        "    \n",
        "    def translate(self, texts, max_length=50, temperature=0.0):\n",
        "        # Encode the input texts\n",
        "        context = self.encoder.convert_input(texts)  # [batch, s]\n",
        "        context = context.to(next(self.encoder.parameters()).device)\n",
        "        \n",
        "        # Initialize loop variables\n",
        "        next_token, done, state = self.decoder.get_initial_state(context)\n",
        "        tokens = []\n",
        "        \n",
        "        for _ in range(max_length):\n",
        "            next_token, done, state = self.decoder.get_next_token(\n",
        "                context, next_token, done, state, temperature)\n",
        "            tokens.append(next_token)\n",
        "            if done.all():\n",
        "                break\n",
        "        \n",
        "        # Concatenate tokens\n",
        "        tokens = torch.cat(tokens, dim=1)  # [batch, t]\n",
        "        \n",
        "        # Convert tokens to text\n",
        "        result = self.decoder.tokens_to_text(tokens)\n",
        "        return result"
      ]
    },
    {
      "cell_type": "markdown",
      "metadata": {
        "id": "5rPi0FkS2iA5"
      },
      "source": [
        "During training the model will be used like this:"
      ]
    },
    {
      "cell_type": "code",
      "execution_count": 36,
      "metadata": {
        "id": "8vhjTh84K6Mg"
      },
      "outputs": [
        {
          "name": "stdout",
          "output_type": "stream",
          "text": [
            "Context tokens, shape: (batch, s, units) torch.Size([64, 17])\n",
            "Target tokens, shape: (batch, t) torch.Size([64, 17])\n",
            "logits, shape: (batch, t, target_vocabulary_size) torch.Size([64, 17, 5000])\n"
          ]
        }
      ],
      "source": [
        "# Initialize Translator\n",
        "model = Translator(encoder, decoder)\n",
        "\n",
        "# Move model to device (GPU if available)\n",
        "device = torch.device('cuda' if torch.cuda.is_available() else 'cpu')\n",
        "model.to(device)\n",
        "\n",
        "# Example forward pass\n",
        "ex_context_tok = ex_context_tok.to(device)\n",
        "ex_tar_in = ex_tar_in.to(device)\n",
        "logits = model(ex_context_tok, ex_tar_in)\n",
        "\n",
        "print(f'Context tokens, shape: (batch, s, units) {ex_context_tok.shape}')\n",
        "print(f'Target tokens, shape: (batch, t) {ex_tar_in.shape}')\n",
        "print(f'logits, shape: (batch, t, target_vocabulary_size) {logits.shape}')"
      ]
    },
    {
      "cell_type": "markdown",
      "metadata": {
        "id": "_ch_71VbIRfK"
      },
      "source": [
        "### Train"
      ]
    },
    {
      "cell_type": "markdown",
      "metadata": {
        "id": "8FmzjGmprVmE"
      },
      "source": [
        "For training, you'll want to implement your own masked loss and accuracy functions:"
      ]
    },
    {
      "cell_type": "code",
      "execution_count": 37,
      "metadata": {
        "id": "WmTHr5iV3jFr"
      },
      "outputs": [],
      "source": [
        "def masked_loss(y_true, y_pred):\n",
        "    # y_true: [batch, t]\n",
        "    # y_pred: [batch, t, vocab_size]\n",
        "    loss_fn = nn.CrossEntropyLoss(reduction='none')\n",
        "    loss = loss_fn(y_pred.view(-1, y_pred.size(-1)), y_true.view(-1))\n",
        "    \n",
        "    # Reshape loss to [batch, t]\n",
        "    loss = loss.view(y_true.size(0), y_true.size(1))\n",
        "    \n",
        "    # Mask out padding\n",
        "    mask = (y_true != 0).float()\n",
        "    loss *= mask\n",
        "    \n",
        "    # Return average loss per token\n",
        "    return loss.sum() / mask.sum()"
      ]
    },
    {
      "cell_type": "code",
      "execution_count": 38,
      "metadata": {
        "id": "nRB1CTmQWOIL"
      },
      "outputs": [],
      "source": [
        "def masked_accuracy(y_true, y_pred):\n",
        "    # y_pred: [batch, t, vocab_size]\n",
        "    preds = torch.argmax(y_pred, dim=-1)  # [batch, t]\n",
        "    matches = (preds == y_true).float()\n",
        "    \n",
        "    mask = (y_true != 0).float()\n",
        "    matches *= mask\n",
        "    \n",
        "    return matches.sum() / mask.sum()"
      ]
    },
    {
      "cell_type": "markdown",
      "metadata": {
        "id": "f32GuAhw2nXm"
      },
      "source": [
        "Configure the model for training:"
      ]
    },
    {
      "cell_type": "code",
      "execution_count": 39,
      "metadata": {
        "id": "9g0DRRvm3l9X"
      },
      "outputs": [],
      "source": [
        "optimizer = optim.Adam(model.parameters())"
      ]
    },
    {
      "cell_type": "markdown",
      "metadata": {
        "id": "5DWLI3pssjnx"
      },
      "source": [
        "The model is randomly initialized, and should give roughly uniform output probabilities. So it's easy to predict what the initial values of the metrics should be:"
      ]
    },
    {
      "cell_type": "code",
      "execution_count": 40,
      "metadata": {
        "id": "BuP3_LFENMJG"
      },
      "outputs": [
        {
          "name": "stdout",
          "output_type": "stream",
          "text": [
            "{'expected_loss': 8.517193191416238, 'expected_acc': 0.0002}\n"
          ]
        }
      ],
      "source": [
        "vocab_size = len(target_vocab)\n",
        "\n",
        "expected_loss = np.log(vocab_size)\n",
        "expected_acc = 1 / vocab_size\n",
        "\n",
        "print({\"expected_loss\": np.log(vocab_size), \"expected_acc\": expected_acc})"
      ]
    },
    {
      "cell_type": "markdown",
      "metadata": {
        "id": "frVba49Usd0Z"
      },
      "source": [
        "That should roughly match the values returned by running a few steps of evaluation:"
      ]
    },
    {
      "cell_type": "code",
      "execution_count": 41,
      "metadata": {
        "id": "8rJITfxEsHKR"
      },
      "outputs": [
        {
          "name": "stdout",
          "output_type": "stream",
          "text": [
            "{'loss': 8.694419691639562, 'accuracy': 0.00010627256337082594}\n"
          ]
        }
      ],
      "source": [
        "def evaluate(model, dataloader, device):\n",
        "    model.eval()\n",
        "    total_loss = 0.0\n",
        "    total_acc = 0.0\n",
        "    total_tokens = 0\n",
        "    with torch.no_grad():\n",
        "        for context, target_in, target_out in dataloader:\n",
        "            context = context.to(device)\n",
        "            target_in = target_in.to(device)\n",
        "            target_out = target_out.to(device)\n",
        "            \n",
        "            logits = model(context, target_in)\n",
        "            loss = masked_loss(target_out, logits)\n",
        "            acc = masked_accuracy(target_out, logits)\n",
        "            \n",
        "            total_loss += loss.item()\n",
        "            total_acc += acc.item()\n",
        "    return {\"loss\": total_loss / len(dataloader), \"accuracy\": total_acc / len(dataloader)}\n",
        "\n",
        "# Evaluate on validation set (first 20 steps)\n",
        "val_results = evaluate(model, val_loader, device)\n",
        "print(val_results)"
      ]
    },
    {
      "cell_type": "code",
      "execution_count": 42,
      "metadata": {
        "id": "BQd_esVVoSf3"
      },
      "outputs": [
        {
          "name": "stderr",
          "output_type": "stream",
          "text": [
            "Epoch 1: 100%|██████████| 1487/1487 [00:14<00:00, 99.57it/s] \n"
          ]
        },
        {
          "name": "stdout",
          "output_type": "stream",
          "text": [
            "Epoch 1: Loss=2.6583, Acc=0.5451, Val Loss=1.7465, Val Acc=0.6657\n"
          ]
        },
        {
          "name": "stderr",
          "output_type": "stream",
          "text": [
            "Epoch 2: 100%|██████████| 1487/1487 [00:14<00:00, 100.51it/s]\n"
          ]
        },
        {
          "name": "stdout",
          "output_type": "stream",
          "text": [
            "Epoch 2: Loss=1.4899, Acc=0.6947, Val Loss=1.5114, Val Acc=0.7013\n"
          ]
        },
        {
          "name": "stderr",
          "output_type": "stream",
          "text": [
            "Epoch 3: 100%|██████████| 1487/1487 [00:14<00:00, 101.36it/s]\n"
          ]
        },
        {
          "name": "stdout",
          "output_type": "stream",
          "text": [
            "Epoch 3: Loss=1.1672, Acc=0.7413, Val Loss=1.4588, Val Acc=0.7132\n"
          ]
        },
        {
          "name": "stderr",
          "output_type": "stream",
          "text": [
            "Epoch 4: 100%|██████████| 1487/1487 [00:14<00:00, 101.17it/s]\n"
          ]
        },
        {
          "name": "stdout",
          "output_type": "stream",
          "text": [
            "Epoch 4: Loss=0.9721, Acc=0.7724, Val Loss=1.4542, Val Acc=0.7184\n"
          ]
        },
        {
          "name": "stderr",
          "output_type": "stream",
          "text": [
            "Epoch 5: 100%|██████████| 1487/1487 [00:14<00:00, 100.96it/s]\n"
          ]
        },
        {
          "name": "stdout",
          "output_type": "stream",
          "text": [
            "Epoch 5: Loss=0.8272, Acc=0.7979, Val Loss=1.4806, Val Acc=0.7202\n"
          ]
        },
        {
          "name": "stderr",
          "output_type": "stream",
          "text": [
            "Epoch 6: 100%|██████████| 1487/1487 [00:14<00:00, 100.97it/s]\n"
          ]
        },
        {
          "name": "stdout",
          "output_type": "stream",
          "text": [
            "Epoch 6: Loss=0.7183, Acc=0.8186, Val Loss=1.5154, Val Acc=0.7212\n"
          ]
        },
        {
          "name": "stderr",
          "output_type": "stream",
          "text": [
            "Epoch 7: 100%|██████████| 1487/1487 [00:14<00:00, 101.41it/s]\n"
          ]
        },
        {
          "name": "stdout",
          "output_type": "stream",
          "text": [
            "Epoch 7: Loss=0.6331, Acc=0.8359, Val Loss=1.5462, Val Acc=0.7209\n",
            "Early stopping triggered.\n"
          ]
        }
      ],
      "source": [
        "from tqdm import tqdm\n",
        "\n",
        "EPOCHS = 100\n",
        "PATIENCE = 3\n",
        "best_val_loss = float('inf')\n",
        "patience_counter = 0\n",
        "\n",
        "history = {'loss': [], 'val_loss': [], 'accuracy': [], 'val_accuracy': []}\n",
        "\n",
        "for epoch in range(EPOCHS):\n",
        "    model.train()\n",
        "    epoch_loss = 0.0\n",
        "    epoch_acc = 0.0\n",
        "    for context, target_in, target_out in tqdm(train_loader, desc=f\"Epoch {epoch+1}\"):\n",
        "        context = context.to(device)\n",
        "        target_in = target_in.to(device)\n",
        "        target_out = target_out.to(device)\n",
        "        \n",
        "        optimizer.zero_grad()\n",
        "        logits = model(context, target_in)\n",
        "        loss = masked_loss(target_out, logits)\n",
        "        acc = masked_accuracy(target_out, logits)\n",
        "        loss.backward()\n",
        "        optimizer.step()\n",
        "        \n",
        "        epoch_loss += loss.item()\n",
        "        epoch_acc += acc.item()\n",
        "    \n",
        "    avg_loss = epoch_loss / len(train_loader)\n",
        "    avg_acc = epoch_acc / len(train_loader)\n",
        "    \n",
        "    # Evaluate on validation set\n",
        "    val_results = evaluate(model, val_loader, device)\n",
        "    \n",
        "    history['loss'].append(avg_loss)\n",
        "    history['accuracy'].append(avg_acc)\n",
        "    history['val_loss'].append(val_results['loss'])\n",
        "    history['val_accuracy'].append(val_results['accuracy'])\n",
        "    \n",
        "    print(f\"Epoch {epoch+1}: Loss={avg_loss:.4f}, Acc={avg_acc:.4f}, Val Loss={val_results['loss']:.4f}, Val Acc={val_results['accuracy']:.4f}\")\n",
        "    \n",
        "    # Early Stopping\n",
        "    if val_results['loss'] < best_val_loss:\n",
        "        best_val_loss = val_results['loss']\n",
        "        patience_counter = 0\n",
        "        # Save the best model\n",
        "        torch.save(model.state_dict(), 'best_model.pth')\n",
        "    else:\n",
        "        patience_counter += 1\n",
        "        if patience_counter >= PATIENCE:\n",
        "            print(\"Early stopping triggered.\")\n",
        "            break"
      ]
    },
    {
      "cell_type": "code",
      "execution_count": 43,
      "metadata": {
        "id": "38rLdlmtQHCm"
      },
      "outputs": [
        {
          "data": {
            "image/png": "[encoded data removed]",
            "text/plain": [
              "<Figure size 640x480 with 1 Axes>"
            ]
          },
          "metadata": {},
          "output_type": "display_data"
        }
      ],
      "source": [
        "plt.plot(history['loss'], label='loss')\n",
        "plt.plot(history['val_loss'], label='val_loss')\n",
        "plt.ylim([0, max(max(history['loss']), max(history['val_loss']))])\n",
        "plt.xlabel('Epoch #')\n",
        "plt.ylabel('CE/token')\n",
        "plt.legend()\n",
        "plt.show()"
      ]
    },
    {
      "cell_type": "code",
      "execution_count": 44,
      "metadata": {
        "id": "KkhXRASNG80_"
      },
      "outputs": [
        {
          "data": {
            "image/png": "[encoded data removed]",
            "text/plain": [
              "<Figure size 640x480 with 1 Axes>"
            ]
          },
          "metadata": {},
          "output_type": "display_data"
        }
      ],
      "source": [
        "plt.plot(history['accuracy'], label='accuracy')\n",
        "plt.plot(history['val_accuracy'], label='val_accuracy')\n",
        "plt.ylim([0, 1])\n",
        "plt.xlabel('Epoch #')\n",
        "plt.ylabel('Accuracy')\n",
        "plt.legend()\n",
        "plt.show()"
      ]
    }
  ],
  "metadata": {
    "accelerator": "GPU",
    "colab": {
      "gpuType": "T4",
      "private_outputs": true,
      "provenance": []
    },
    "kernelspec": {
      "display_name": "lc",
      "language": "python",
      "name": "python3"
    },
    "language_info": {
      "codemirror_mode": {
        "name": "ipython",
        "version": 3
      },
      "file_extension": ".py",
      "mimetype": "text/x-python",
      "name": "python",
      "nbconvert_exporter": "python",
      "pygments_lexer": "ipython3",
      "version": "3.10.14"
    }
  },
  "nbformat": 4,
  "nbformat_minor": 0
}
