{
 "cells": [
  {
   "cell_type": "markdown",
   "id": "d9b845b0",
   "metadata": {},
   "source": [
    "\n",
    "# Tutorial 1: Jupyter Notebook Overview and Python Basics\n",
    "---\n",
    "\n",
    "## Overview\n",
    "\n",
    "Welcome to the first tutorial on **Jupyter Notebooks** and **Python Basics**! \n",
    "This tutorial will introduce you to:\n",
    "1. The fundamentals of Jupyter Notebooks: Markdown, code cells, and interactive usage.\n",
    "2. Python basics, including variables, data types, control structures, and functions.\n",
    "3. Practical examples to help you develop a strong foundation for programming.\n",
    "\n",
    "We will also explore essential software tools like **JupyterLab** and **VSCode**, their features, and how to install them for Python programming.\n",
    "\n",
    "Let's get started! 🚀\n",
    "\n"
   ]
  },
  {
   "cell_type": "markdown",
   "id": "a28975f9",
   "metadata": {},
   "source": [
    "\n",
    "---\n",
    "\n",
    "## Software Tools for Python Programming\n",
    "\n",
    "### 1. **Jupyter Notebook** \n",
    "   - **Features**: Interactive Python programming, supports text, code, and visualizations. \n",
    "   - **Installation**: Install using pip: `pip install notebook`.\n",
    "   - **Use Case**: Ideal for data analysis, prototyping, and collaborative projects.\n",
    "\n",
    "   ```bash\n",
    "   # Start a new notebook server\n",
    "   jupyter notebook\n",
    "   ```\n",
    "\n",
    "### 2. **JupyterLab**\n",
    "   - **Features**: An advanced version of Jupyter Notebook, supporting file management, extensions, and enhanced UIs.\n",
    "   - **Installation**: Install using pip: `pip install jupyterlab`.\n",
    "   - **Start JupyterLab**:\n",
    "   ```bash\n",
    "   jupyter lab\n",
    "   ```\n",
    "\n",
    "### 3. **VSCode**\n",
    "   - **Features**: Lightweight code editor with extensions for Python, debugging, and Jupyter support.\n",
    "   - **Installation**: Download from [https://code.visualstudio.com/](https://code.visualstudio.com/).\n",
    "   - **Jupyter Setup**: Install the Jupyter extension in VSCode.\n"
   ]
  },
  {
   "cell_type": "code",
   "execution_count": 1,
   "id": "facb399d",
   "metadata": {},
   "outputs": [
    {
     "name": "stdout",
     "output_type": "stream",
     "text": [
      "Requirement already satisfied: notebook in /home/ubuntu/data/anaconda3/envs/torch/lib/python3.10/site-packages (7.3.2)\n",
      "Requirement already satisfied: jupyterlab in /home/ubuntu/data/anaconda3/envs/torch/lib/python3.10/site-packages (4.3.4)\n",
      "Requirement already satisfied: jupyter-server<3,>=2.4.0 in /home/ubuntu/data/anaconda3/envs/torch/lib/python3.10/site-packages (from notebook) (2.15.0)\n",
      "Requirement already satisfied: jupyterlab-server<3,>=2.27.1 in /home/ubuntu/data/anaconda3/envs/torch/lib/python3.10/site-packages (from notebook) (2.27.3)\n",
      "Requirement already satisfied: notebook-shim<0.3,>=0.2 in /home/ubuntu/data/anaconda3/envs/torch/lib/python3.10/site-packages (from notebook) (0.2.4)\n",
      "Requirement already satisfied: tornado>=6.2.0 in /home/ubuntu/data/anaconda3/envs/torch/lib/python3.10/site-packages (from notebook) (6.4.2)\n",
      "Requirement already satisfied: async-lru>=1.0.0 in /home/ubuntu/data/anaconda3/envs/torch/lib/python3.10/site-packages (from jupyterlab) (2.0.4)\n",
      "Requirement already satisfied: httpx>=0.25.0 in /home/ubuntu/data/anaconda3/envs/torch/lib/python3.10/site-packages (from jupyterlab) (0.28.1)\n",
      "Requirement already satisfied: ipykernel>=6.5.0 in /home/ubuntu/data/anaconda3/envs/torch/lib/python3.10/site-packages (from jupyterlab) (6.29.5)\n",
      "Requirement already satisfied: jinja2>=3.0.3 in /home/ubuntu/data/anaconda3/envs/torch/lib/python3.10/site-packages (from jupyterlab) (3.1.4)\n",
      "Requirement already satisfied: jupyter-core in /home/ubuntu/data/anaconda3/envs/torch/lib/python3.10/site-packages (from jupyterlab) (5.7.2)\n",
      "Requirement already satisfied: jupyter-lsp>=2.0.0 in /home/ubuntu/data/anaconda3/envs/torch/lib/python3.10/site-packages (from jupyterlab) (2.2.5)\n",
      "Requirement already satisfied: packaging in /home/ubuntu/data/anaconda3/envs/torch/lib/python3.10/site-packages (from jupyterlab) (24.1)\n",
      "Requirement already satisfied: setuptools>=40.8.0 in /home/ubuntu/data/anaconda3/envs/torch/lib/python3.10/site-packages (from jupyterlab) (75.1.0)\n",
      "Requirement already satisfied: tomli>=1.2.2 in /home/ubuntu/data/anaconda3/envs/torch/lib/python3.10/site-packages (from jupyterlab) (2.2.1)\n",
      "Requirement already satisfied: traitlets in /home/ubuntu/data/anaconda3/envs/torch/lib/python3.10/site-packages (from jupyterlab) (5.14.3)\n",
      "Requirement already satisfied: typing-extensions>=4.0.0 in /home/ubuntu/data/anaconda3/envs/torch/lib/python3.10/site-packages (from async-lru>=1.0.0->jupyterlab) (4.11.0)\n",
      "Requirement already satisfied: anyio in /home/ubuntu/data/anaconda3/envs/torch/lib/python3.10/site-packages (from httpx>=0.25.0->jupyterlab) (4.7.0)\n",
      "Requirement already satisfied: certifi in /home/ubuntu/data/anaconda3/envs/torch/lib/python3.10/site-packages (from httpx>=0.25.0->jupyterlab) (2024.12.14)\n",
      "Requirement already satisfied: httpcore==1.* in /home/ubuntu/data/anaconda3/envs/torch/lib/python3.10/site-packages (from httpx>=0.25.0->jupyterlab) (1.0.7)\n",
      "Requirement already satisfied: idna in /home/ubuntu/data/anaconda3/envs/torch/lib/python3.10/site-packages (from httpx>=0.25.0->jupyterlab) (3.7)\n",
      "Requirement already satisfied: h11<0.15,>=0.13 in /home/ubuntu/data/anaconda3/envs/torch/lib/python3.10/site-packages (from httpcore==1.*->httpx>=0.25.0->jupyterlab) (0.14.0)\n",
      "Requirement already satisfied: comm>=0.1.1 in /home/ubuntu/data/anaconda3/envs/torch/lib/python3.10/site-packages (from ipykernel>=6.5.0->jupyterlab) (0.2.2)\n",
      "Requirement already satisfied: debugpy>=1.6.5 in /home/ubuntu/data/anaconda3/envs/torch/lib/python3.10/site-packages (from ipykernel>=6.5.0->jupyterlab) (1.8.11)\n",
      "Requirement already satisfied: ipython>=7.23.1 in /home/ubuntu/data/anaconda3/envs/torch/lib/python3.10/site-packages (from ipykernel>=6.5.0->jupyterlab) (8.30.0)\n",
      "Requirement already satisfied: jupyter-client>=6.1.12 in /home/ubuntu/data/anaconda3/envs/torch/lib/python3.10/site-packages (from ipykernel>=6.5.0->jupyterlab) (8.6.3)\n",
      "Requirement already satisfied: matplotlib-inline>=0.1 in /home/ubuntu/data/anaconda3/envs/torch/lib/python3.10/site-packages (from ipykernel>=6.5.0->jupyterlab) (0.1.7)\n",
      "Requirement already satisfied: nest-asyncio in /home/ubuntu/data/anaconda3/envs/torch/lib/python3.10/site-packages (from ipykernel>=6.5.0->jupyterlab) (1.6.0)\n",
      "Requirement already satisfied: psutil in /home/ubuntu/data/anaconda3/envs/torch/lib/python3.10/site-packages (from ipykernel>=6.5.0->jupyterlab) (5.9.0)\n",
      "Requirement already satisfied: pyzmq>=24 in /home/ubuntu/data/anaconda3/envs/torch/lib/python3.10/site-packages (from ipykernel>=6.5.0->jupyterlab) (26.2.0)\n",
      "Requirement already satisfied: MarkupSafe>=2.0 in /home/ubuntu/data/anaconda3/envs/torch/lib/python3.10/site-packages (from jinja2>=3.0.3->jupyterlab) (2.1.3)\n",
      "Requirement already satisfied: platformdirs>=2.5 in /home/ubuntu/data/anaconda3/envs/torch/lib/python3.10/site-packages (from jupyter-core->jupyterlab) (4.3.6)\n",
      "Requirement already satisfied: argon2-cffi>=21.1 in /home/ubuntu/data/anaconda3/envs/torch/lib/python3.10/site-packages (from jupyter-server<3,>=2.4.0->notebook) (23.1.0)\n",
      "Requirement already satisfied: jupyter-events>=0.11.0 in /home/ubuntu/data/anaconda3/envs/torch/lib/python3.10/site-packages (from jupyter-server<3,>=2.4.0->notebook) (0.11.0)\n",
      "Requirement already satisfied: jupyter-server-terminals>=0.4.4 in /home/ubuntu/data/anaconda3/envs/torch/lib/python3.10/site-packages (from jupyter-server<3,>=2.4.0->notebook) (0.5.3)\n",
      "Requirement already satisfied: nbconvert>=6.4.4 in /home/ubuntu/data/anaconda3/envs/torch/lib/python3.10/site-packages (from jupyter-server<3,>=2.4.0->notebook) (7.16.4)\n",
      "Requirement already satisfied: nbformat>=5.3.0 in /home/ubuntu/data/anaconda3/envs/torch/lib/python3.10/site-packages (from jupyter-server<3,>=2.4.0->notebook) (5.10.4)\n",
      "Requirement already satisfied: overrides>=5.0 in /home/ubuntu/data/anaconda3/envs/torch/lib/python3.10/site-packages (from jupyter-server<3,>=2.4.0->notebook) (7.7.0)\n",
      "Requirement already satisfied: prometheus-client>=0.9 in /home/ubuntu/data/anaconda3/envs/torch/lib/python3.10/site-packages (from jupyter-server<3,>=2.4.0->notebook) (0.21.1)\n",
      "Requirement already satisfied: send2trash>=1.8.2 in /home/ubuntu/data/anaconda3/envs/torch/lib/python3.10/site-packages (from jupyter-server<3,>=2.4.0->notebook) (1.8.3)\n",
      "Requirement already satisfied: terminado>=0.8.3 in /home/ubuntu/data/anaconda3/envs/torch/lib/python3.10/site-packages (from jupyter-server<3,>=2.4.0->notebook) (0.18.1)\n",
      "Requirement already satisfied: websocket-client>=1.7 in /home/ubuntu/data/anaconda3/envs/torch/lib/python3.10/site-packages (from jupyter-server<3,>=2.4.0->notebook) (1.8.0)\n",
      "Requirement already satisfied: babel>=2.10 in /home/ubuntu/data/anaconda3/envs/torch/lib/python3.10/site-packages (from jupyterlab-server<3,>=2.27.1->notebook) (2.16.0)\n",
      "Requirement already satisfied: json5>=0.9.0 in /home/ubuntu/data/anaconda3/envs/torch/lib/python3.10/site-packages (from jupyterlab-server<3,>=2.27.1->notebook) (0.10.0)\n",
      "Requirement already satisfied: jsonschema>=4.18.0 in /home/ubuntu/data/anaconda3/envs/torch/lib/python3.10/site-packages (from jupyterlab-server<3,>=2.27.1->notebook) (4.23.0)\n",
      "Requirement already satisfied: requests>=2.31 in /home/ubuntu/data/anaconda3/envs/torch/lib/python3.10/site-packages (from jupyterlab-server<3,>=2.27.1->notebook) (2.32.3)\n",
      "Requirement already satisfied: exceptiongroup>=1.0.2 in /home/ubuntu/data/anaconda3/envs/torch/lib/python3.10/site-packages (from anyio->httpx>=0.25.0->jupyterlab) (1.2.2)\n",
      "Requirement already satisfied: sniffio>=1.1 in /home/ubuntu/data/anaconda3/envs/torch/lib/python3.10/site-packages (from anyio->httpx>=0.25.0->jupyterlab) (1.3.1)\n",
      "Requirement already satisfied: argon2-cffi-bindings in /home/ubuntu/data/anaconda3/envs/torch/lib/python3.10/site-packages (from argon2-cffi>=21.1->jupyter-server<3,>=2.4.0->notebook) (21.2.0)\n",
      "Requirement already satisfied: decorator in /home/ubuntu/data/anaconda3/envs/torch/lib/python3.10/site-packages (from ipython>=7.23.1->ipykernel>=6.5.0->jupyterlab) (5.1.1)\n",
      "Requirement already satisfied: jedi>=0.16 in /home/ubuntu/data/anaconda3/envs/torch/lib/python3.10/site-packages (from ipython>=7.23.1->ipykernel>=6.5.0->jupyterlab) (0.19.2)\n",
      "Requirement already satisfied: pexpect>4.3 in /home/ubuntu/data/anaconda3/envs/torch/lib/python3.10/site-packages (from ipython>=7.23.1->ipykernel>=6.5.0->jupyterlab) (4.9.0)\n",
      "Requirement already satisfied: prompt_toolkit<3.1.0,>=3.0.41 in /home/ubuntu/data/anaconda3/envs/torch/lib/python3.10/site-packages (from ipython>=7.23.1->ipykernel>=6.5.0->jupyterlab) (3.0.48)\n",
      "Requirement already satisfied: pygments>=2.4.0 in /home/ubuntu/data/anaconda3/envs/torch/lib/python3.10/site-packages (from ipython>=7.23.1->ipykernel>=6.5.0->jupyterlab) (2.18.0)\n",
      "Requirement already satisfied: stack_data in /home/ubuntu/data/anaconda3/envs/torch/lib/python3.10/site-packages (from ipython>=7.23.1->ipykernel>=6.5.0->jupyterlab) (0.6.3)\n",
      "Requirement already satisfied: attrs>=22.2.0 in /home/ubuntu/data/anaconda3/envs/torch/lib/python3.10/site-packages (from jsonschema>=4.18.0->jupyterlab-server<3,>=2.27.1->notebook) (24.2.0)\n",
      "Requirement already satisfied: jsonschema-specifications>=2023.03.6 in /home/ubuntu/data/anaconda3/envs/torch/lib/python3.10/site-packages (from jsonschema>=4.18.0->jupyterlab-server<3,>=2.27.1->notebook) (2024.10.1)\n",
      "Requirement already satisfied: referencing>=0.28.4 in /home/ubuntu/data/anaconda3/envs/torch/lib/python3.10/site-packages (from jsonschema>=4.18.0->jupyterlab-server<3,>=2.27.1->notebook) (0.35.1)\n",
      "Requirement already satisfied: rpds-py>=0.7.1 in /home/ubuntu/data/anaconda3/envs/torch/lib/python3.10/site-packages (from jsonschema>=4.18.0->jupyterlab-server<3,>=2.27.1->notebook) (0.22.3)\n",
      "Requirement already satisfied: python-dateutil>=2.8.2 in /home/ubuntu/data/anaconda3/envs/torch/lib/python3.10/site-packages (from jupyter-client>=6.1.12->ipykernel>=6.5.0->jupyterlab) (2.9.0.post0)\n",
      "Requirement already satisfied: python-json-logger>=2.0.4 in /home/ubuntu/data/anaconda3/envs/torch/lib/python3.10/site-packages (from jupyter-events>=0.11.0->jupyter-server<3,>=2.4.0->notebook) (3.2.1)\n",
      "Requirement already satisfied: pyyaml>=5.3 in /home/ubuntu/data/anaconda3/envs/torch/lib/python3.10/site-packages (from jupyter-events>=0.11.0->jupyter-server<3,>=2.4.0->notebook) (6.0.2)\n",
      "Requirement already satisfied: rfc3339-validator in /home/ubuntu/data/anaconda3/envs/torch/lib/python3.10/site-packages (from jupyter-events>=0.11.0->jupyter-server<3,>=2.4.0->notebook) (0.1.4)\n",
      "Requirement already satisfied: rfc3986-validator>=0.1.1 in /home/ubuntu/data/anaconda3/envs/torch/lib/python3.10/site-packages (from jupyter-events>=0.11.0->jupyter-server<3,>=2.4.0->notebook) (0.1.1)\n",
      "Requirement already satisfied: beautifulsoup4 in /home/ubuntu/data/anaconda3/envs/torch/lib/python3.10/site-packages (from nbconvert>=6.4.4->jupyter-server<3,>=2.4.0->notebook) (4.12.3)\n",
      "Requirement already satisfied: bleach!=5.0.0 in /home/ubuntu/data/anaconda3/envs/torch/lib/python3.10/site-packages (from nbconvert>=6.4.4->jupyter-server<3,>=2.4.0->notebook) (6.2.0)\n",
      "Requirement already satisfied: defusedxml in /home/ubuntu/data/anaconda3/envs/torch/lib/python3.10/site-packages (from nbconvert>=6.4.4->jupyter-server<3,>=2.4.0->notebook) (0.7.1)\n",
      "Requirement already satisfied: jupyterlab-pygments in /home/ubuntu/data/anaconda3/envs/torch/lib/python3.10/site-packages (from nbconvert>=6.4.4->jupyter-server<3,>=2.4.0->notebook) (0.3.0)\n",
      "Requirement already satisfied: mistune<4,>=2.0.3 in /home/ubuntu/data/anaconda3/envs/torch/lib/python3.10/site-packages (from nbconvert>=6.4.4->jupyter-server<3,>=2.4.0->notebook) (3.0.2)\n",
      "Requirement already satisfied: nbclient>=0.5.0 in /home/ubuntu/data/anaconda3/envs/torch/lib/python3.10/site-packages (from nbconvert>=6.4.4->jupyter-server<3,>=2.4.0->notebook) (0.10.2)\n",
      "Requirement already satisfied: pandocfilters>=1.4.1 in /home/ubuntu/data/anaconda3/envs/torch/lib/python3.10/site-packages (from nbconvert>=6.4.4->jupyter-server<3,>=2.4.0->notebook) (1.5.1)\n",
      "Requirement already satisfied: tinycss2 in /home/ubuntu/data/anaconda3/envs/torch/lib/python3.10/site-packages (from nbconvert>=6.4.4->jupyter-server<3,>=2.4.0->notebook) (1.4.0)\n",
      "Requirement already satisfied: fastjsonschema>=2.15 in /home/ubuntu/data/anaconda3/envs/torch/lib/python3.10/site-packages (from nbformat>=5.3.0->jupyter-server<3,>=2.4.0->notebook) (2.21.1)\n",
      "Requirement already satisfied: charset-normalizer<4,>=2 in /home/ubuntu/data/anaconda3/envs/torch/lib/python3.10/site-packages (from requests>=2.31->jupyterlab-server<3,>=2.27.1->notebook) (3.3.2)\n",
      "Requirement already satisfied: urllib3<3,>=1.21.1 in /home/ubuntu/data/anaconda3/envs/torch/lib/python3.10/site-packages (from requests>=2.31->jupyterlab-server<3,>=2.27.1->notebook) (2.2.3)\n",
      "Requirement already satisfied: ptyprocess in /home/ubuntu/data/anaconda3/envs/torch/lib/python3.10/site-packages (from terminado>=0.8.3->jupyter-server<3,>=2.4.0->notebook) (0.7.0)\n",
      "Requirement already satisfied: webencodings in /home/ubuntu/data/anaconda3/envs/torch/lib/python3.10/site-packages (from bleach!=5.0.0->nbconvert>=6.4.4->jupyter-server<3,>=2.4.0->notebook) (0.5.1)\n",
      "Requirement already satisfied: parso<0.9.0,>=0.8.4 in /home/ubuntu/data/anaconda3/envs/torch/lib/python3.10/site-packages (from jedi>=0.16->ipython>=7.23.1->ipykernel>=6.5.0->jupyterlab) (0.8.4)\n",
      "Requirement already satisfied: fqdn in /home/ubuntu/data/anaconda3/envs/torch/lib/python3.10/site-packages (from jsonschema[format-nongpl]>=4.18.0->jupyter-events>=0.11.0->jupyter-server<3,>=2.4.0->notebook) (1.5.1)\n",
      "Requirement already satisfied: isoduration in /home/ubuntu/data/anaconda3/envs/torch/lib/python3.10/site-packages (from jsonschema[format-nongpl]>=4.18.0->jupyter-events>=0.11.0->jupyter-server<3,>=2.4.0->notebook) (20.11.0)\n",
      "Requirement already satisfied: jsonpointer>1.13 in /home/ubuntu/data/anaconda3/envs/torch/lib/python3.10/site-packages (from jsonschema[format-nongpl]>=4.18.0->jupyter-events>=0.11.0->jupyter-server<3,>=2.4.0->notebook) (3.0.0)\n",
      "Requirement already satisfied: uri-template in /home/ubuntu/data/anaconda3/envs/torch/lib/python3.10/site-packages (from jsonschema[format-nongpl]>=4.18.0->jupyter-events>=0.11.0->jupyter-server<3,>=2.4.0->notebook) (1.3.0)\n",
      "Requirement already satisfied: webcolors>=24.6.0 in /home/ubuntu/data/anaconda3/envs/torch/lib/python3.10/site-packages (from jsonschema[format-nongpl]>=4.18.0->jupyter-events>=0.11.0->jupyter-server<3,>=2.4.0->notebook) (24.11.1)\n",
      "Requirement already satisfied: wcwidth in /home/ubuntu/data/anaconda3/envs/torch/lib/python3.10/site-packages (from prompt_toolkit<3.1.0,>=3.0.41->ipython>=7.23.1->ipykernel>=6.5.0->jupyterlab) (0.2.13)\n",
      "Requirement already satisfied: six>=1.5 in /home/ubuntu/data/anaconda3/envs/torch/lib/python3.10/site-packages (from python-dateutil>=2.8.2->jupyter-client>=6.1.12->ipykernel>=6.5.0->jupyterlab) (1.16.0)\n",
      "Requirement already satisfied: cffi>=1.0.1 in /home/ubuntu/data/anaconda3/envs/torch/lib/python3.10/site-packages (from argon2-cffi-bindings->argon2-cffi>=21.1->jupyter-server<3,>=2.4.0->notebook) (1.17.1)\n",
      "Requirement already satisfied: soupsieve>1.2 in /home/ubuntu/data/anaconda3/envs/torch/lib/python3.10/site-packages (from beautifulsoup4->nbconvert>=6.4.4->jupyter-server<3,>=2.4.0->notebook) (2.6)\n",
      "Requirement already satisfied: executing>=1.2.0 in /home/ubuntu/data/anaconda3/envs/torch/lib/python3.10/site-packages (from stack_data->ipython>=7.23.1->ipykernel>=6.5.0->jupyterlab) (2.1.0)\n",
      "Requirement already satisfied: asttokens>=2.1.0 in /home/ubuntu/data/anaconda3/envs/torch/lib/python3.10/site-packages (from stack_data->ipython>=7.23.1->ipykernel>=6.5.0->jupyterlab) (3.0.0)\n",
      "Requirement already satisfied: pure_eval in /home/ubuntu/data/anaconda3/envs/torch/lib/python3.10/site-packages (from stack_data->ipython>=7.23.1->ipykernel>=6.5.0->jupyterlab) (0.2.3)\n",
      "Requirement already satisfied: pycparser in /home/ubuntu/data/anaconda3/envs/torch/lib/python3.10/site-packages (from cffi>=1.0.1->argon2-cffi-bindings->argon2-cffi>=21.1->jupyter-server<3,>=2.4.0->notebook) (2.22)\n",
      "Requirement already satisfied: arrow>=0.15.0 in /home/ubuntu/data/anaconda3/envs/torch/lib/python3.10/site-packages (from isoduration->jsonschema[format-nongpl]>=4.18.0->jupyter-events>=0.11.0->jupyter-server<3,>=2.4.0->notebook) (1.3.0)\n",
      "Requirement already satisfied: types-python-dateutil>=2.8.10 in /home/ubuntu/data/anaconda3/envs/torch/lib/python3.10/site-packages (from arrow>=0.15.0->isoduration->jsonschema[format-nongpl]>=4.18.0->jupyter-events>=0.11.0->jupyter-server<3,>=2.4.0->notebook) (2.9.0.20241206)\n",
      "Selected Jupyter core packages...\n",
      "IPython          : 8.30.0\n",
      "ipykernel        : 6.29.5\n",
      "ipywidgets       : not installed\n",
      "jupyter_client   : 8.6.3\n",
      "jupyter_core     : 5.7.2\n",
      "jupyter_server   : 2.15.0\n",
      "jupyterlab       : 4.3.4\n",
      "nbclient         : 0.10.2\n",
      "nbconvert        : 7.16.4\n",
      "nbformat         : 5.10.4\n",
      "notebook         : 7.3.2\n",
      "qtconsole        : not installed\n",
      "traitlets        : 5.14.3\n"
     ]
    }
   ],
   "source": [
    "# Install Jupyter Notebook and Lab\n",
    "!pip install notebook jupyterlab\n",
    "\n",
    "# Verify installation\n",
    "!jupyter --version"
   ]
  },
  {
   "cell_type": "markdown",
   "metadata": {},
   "source": [
    "Code examples are available in the github https://github.com/PEESEgroup/SysEn5888"
   ]
  },
  {
   "cell_type": "markdown",
   "metadata": {},
   "source": [
    "## The three cell types:\n",
    "- Markdown (as this one): \n",
    "    - Markdown cells are used for adding text content, explanations, documentation, and formatting to your Jupyter Notebook.\n",
    "    - You can write in Markdown syntax, which allows you to easily format text, add headers, create lists, include images, and even incorporate LaTeX equations.\n",
    "    - Markdown cells are useful for providing context, instructions, and insights alongside your Code cells.\n",
    "- Code (as the one below):\n",
    "    - Code cells are where you write and execute actual code in programming languages, such as Python.\n",
    "    - Code cells allow you to interactively run code and see the output immediately below the cell.\n",
    "    - They are the primary interface for writing and executing code within a Jupyter Notebook.\n",
    "- (adavnced) Cells marked as Raw NBConvert Format: \n",
    "    - It's an essential tool for generating various output formats (such as HTML, PDF, LaTeX, slides, and more) from your Jupyter notebooks.\n",
    "\n",
    "### Code cell"
   ]
  },
  {
   "cell_type": "code",
   "execution_count": 2,
   "metadata": {},
   "outputs": [],
   "source": [
    "import time\n",
    "# Does not produce any output, just goes to sleep for two seconds! \n",
    "time.sleep(2)"
   ]
  },
  {
   "cell_type": "code",
   "execution_count": 3,
   "metadata": {},
   "outputs": [
    {
     "data": {
      "text/plain": [
       "8"
      ]
     },
     "execution_count": 3,
     "metadata": {},
     "output_type": "execute_result"
    }
   ],
   "source": [
    "1+1+6"
   ]
  },
  {
   "cell_type": "markdown",
   "metadata": {},
   "source": [
    "1. Markdown levels for a better readability of your code!\n",
    "\n",
    "# This is level 1\n",
    "## This is level 2\n",
    "### This is level 3\n",
    "#### This is level 4\n",
    "\n",
    "\n",
    "\n",
    "2. Sometimes you want to have lists!\n",
    "   - Level 1\n",
    "       * level 2\n",
    "           - level 3\n",
    "               * level 4\n",
    "               \n",
    "               \n",
    "               \n",
    "3. Sometimes images are helpful!\n",
    "\n",
    "![title](https://news.cornell.edu/sites/default/files/styles/story_thumbnail_xlarge/public/2019-09/0925_rosenblatt_main.jpg?itok=SE0aS7ds)"
   ]
  },
  {
   "cell_type": "markdown",
   "metadata": {},
   "source": [
    "### Markdown can also have Latex \n",
    "\n",
    "\\begin{equation*}\n",
    "\\left( \\sum_{k=1}^n a_k b_k \\right)^2 \\leq \\left( \\sum_{k=1}^n a_k^2 \\right) \\left( \\sum_{k=1}^n b_k^2 \\right)\n",
    "\\end{equation*}"
   ]
  },
  {
   "cell_type": "markdown",
   "metadata": {},
   "source": [
    "### You can also embed code in markdown!\n",
    "```python\n",
    "from pyomo.environ import *\n",
    "model = Concretemodel()\n",
    "```"
   ]
  },
  {
   "cell_type": "markdown",
   "metadata": {},
   "source": [
    "## Shortcuts!\n",
    "\n",
    "#### Running and saving\n",
    "- <code> Ctrl + Enter </code> run current cell\n",
    "- <code> Shift + Enter </code> run current cell and select below\n",
    "- <code> Alt + Enter </code> run current cell, insert below\n",
    "- <code> Ctrl + s </code> save\n",
    "\n",
    "#### Cut, copy, paste\n",
    "\n",
    "For command mode (press <code>Esc</code> to activate):\n",
    "- <code>X </code>cut selected cells\n",
    "- <code>C </code>copy selected cells\n",
    "- <code>V </code>paste cells below\n",
    "- <code>Shift + V </code>paste cells above\n",
    "- <code>A </code>insert cell above\n",
    "- <code>B </code>insert cell below\n",
    "- <code>Z </code>undo cell deletion\n",
    "\n",
    "#### Navigation\n",
    "- <code>Shift + Space </code> scroll up\n",
    "- <code>Space </code> scroll down"
   ]
  },
  {
   "cell_type": "markdown",
   "metadata": {},
   "source": [
    "## Kernels\n",
    "Every notebook has its own kernel. When you run a cell, the script it contains is run by the kernel. All output is given to the cell that will be shown. The state of the kernel remains over time and between cells; it applies to the entire document rather than individual cells.\n",
    "\n",
    "![title](https://i.stack.imgur.com/sIB5M.png)\n",
    "\n",
    "### You can run only three programming languages on jupyter:\n",
    "1. JUlia\n",
    "2. PYThon\n",
    "3. and R\n",
    "\n",
    "\n",
    "\n",
    "## Alternative to Jupyter? Google Colab!\n",
    "\n",
    "\n",
    "https://colab.research.google.com/github/lexfridman/mit-deep-learning/blob/master/tutorial_deep_learning_basics/deep_learning_basics.ipynb\n",
    "\n",
    "- Let's upload this notebook to colab!\n",
    "\n",
    "\n",
    "\n",
    "# ## Python Basics\n",
    "\n",
    "- Let's now brush up on your python knowledge! \n",
    "- We will go over the most essential basics of Python to make sure you follow our tutorials going forward!\n",
    "- We will go over:\n",
    "\n",
    "* Different Data Types:\n",
    "    * Numbers\n",
    "        - Represents numeric values.\n",
    "        - Can be integers (whole numbers) or floating-point numbers (decimal numbers).\n",
    "        - Used for mathematical calculations and operations.\n",
    "    * Strings\n",
    "        - Represents sequences of characters, like text.\n",
    "        - Enclosed in single ('') or double (\"\") quotes.\n",
    "        - Used for storing and manipulating textual data.\n",
    "    * Lists\n",
    "        - Represents ordered sequences of items.\n",
    "        - Items can be of any data type, and they are enclosed in square brackets [].\n",
    "        - Lists are mutable, meaning you can change their content (add, remove, modify elements).\n",
    "    * Dictionaries\n",
    "        - Represents key-value pairs.\n",
    "        - Uses curly braces {} with keys and associated values.\n",
    "        - Provides a way to access values using their keys.\n",
    "        - Dictionaries are also mutable.\n",
    "    * Sets\n",
    "        - Represents an unordered collection of unique elements.\n",
    "        - Enclosed in curly braces {}.\n",
    "        - Does not allow duplicate values.\n",
    "        - Used for tasks that require testing for membership and eliminating duplicates.\n",
    "    * Tuples\n",
    "        - Represents ordered, immutable sequences of elements.\n",
    "        - Enclosed in parentheses ().\n",
    "        - Similar to lists, but once created, their content cannot be changed.\n",
    "        - Used when you need a collection of items that should not be modified.\n",
    "    * Booleans\n",
    "        - Represents a binary value, either True or False.\n",
    "        - Used for logical operations, comparisons, and control flow.\n",
    "    \n",
    "* Operators\n",
    "* if, elif, else Statements\n",
    "* for and while loops\n",
    "* range function \n",
    "* list processing\n",
    "* functions\n",
    "* lambda expressions\n",
    "* map and filter\n",
    "* methods\n",
    "\n",
    "## Data Types \n",
    "### Numbers"
   ]
  },
  {
   "cell_type": "markdown",
   "metadata": {},
   "source": [
    " Numbers\n",
    "        - Represents numeric values.\n",
    "        - Can be integers (whole numbers) or floating-point numbers (decimal numbers).\n",
    "        - Used for mathematical calculations and operations."
   ]
  },
  {
   "cell_type": "code",
   "execution_count": 4,
   "metadata": {},
   "outputs": [
    {
     "data": {
      "text/plain": [
       "2"
      ]
     },
     "execution_count": 4,
     "metadata": {},
     "output_type": "execute_result"
    }
   ],
   "source": [
    "2"
   ]
  },
  {
   "cell_type": "code",
   "execution_count": 5,
   "metadata": {},
   "outputs": [
    {
     "data": {
      "text/plain": [
       "3"
      ]
     },
     "execution_count": 5,
     "metadata": {},
     "output_type": "execute_result"
    }
   ],
   "source": [
    "1+2"
   ]
  },
  {
   "cell_type": "code",
   "execution_count": 6,
   "metadata": {},
   "outputs": [
    {
     "data": {
      "text/plain": [
       "3"
      ]
     },
     "execution_count": 6,
     "metadata": {},
     "output_type": "execute_result"
    }
   ],
   "source": [
    "1*3"
   ]
  },
  {
   "cell_type": "code",
   "execution_count": 7,
   "metadata": {},
   "outputs": [
    {
     "data": {
      "text/plain": [
       "0.3333333333333333"
      ]
     },
     "execution_count": 7,
     "metadata": {},
     "output_type": "execute_result"
    }
   ],
   "source": [
    "1/3"
   ]
  },
  {
   "cell_type": "code",
   "execution_count": 8,
   "metadata": {},
   "outputs": [
    {
     "data": {
      "text/plain": [
       "8"
      ]
     },
     "execution_count": 8,
     "metadata": {},
     "output_type": "execute_result"
    }
   ],
   "source": [
    "2**3\n",
    "#2 to the third power"
   ]
  },
  {
   "cell_type": "code",
   "execution_count": 9,
   "metadata": {},
   "outputs": [
    {
     "data": {
      "text/plain": [
       "1"
      ]
     },
     "execution_count": 9,
     "metadata": {},
     "output_type": "execute_result"
    }
   ],
   "source": [
    "7%2\n",
    "#7 divided by 2 equals 3 with a remainder of 1"
   ]
  },
  {
   "cell_type": "code",
   "execution_count": 10,
   "metadata": {},
   "outputs": [
    {
     "data": {
      "text/plain": [
       "25.0"
      ]
     },
     "execution_count": 10,
     "metadata": {},
     "output_type": "execute_result"
    }
   ],
   "source": [
    "5*5.0"
   ]
  },
  {
   "cell_type": "markdown",
   "metadata": {},
   "source": [
    "### Strings"
   ]
  },
  {
   "cell_type": "markdown",
   "metadata": {},
   "source": [
    "Strings\n",
    "        - Represents sequences of characters, like text.\n",
    "        - Enclosed in single ('') or double (\"\") quotes.\n",
    "        - Used for storing and manipulating textual data."
   ]
  },
  {
   "cell_type": "code",
   "execution_count": 11,
   "metadata": {},
   "outputs": [
    {
     "data": {
      "text/plain": [
       "'what is the time'"
      ]
     },
     "execution_count": 11,
     "metadata": {},
     "output_type": "execute_result"
    }
   ],
   "source": [
    "'what is the time'"
   ]
  },
  {
   "cell_type": "code",
   "execution_count": 13,
   "metadata": {},
   "outputs": [
    {
     "ename": "SyntaxError",
     "evalue": "unterminated string literal (detected at line 1) (2787886002.py, line 1)",
     "output_type": "error",
     "traceback": [
      "\u001b[0;36m  Cell \u001b[0;32mIn[13], line 1\u001b[0;36m\u001b[0m\n\u001b[0;31m    'what's the time'\u001b[0m\n\u001b[0m                    ^\u001b[0m\n\u001b[0;31mSyntaxError\u001b[0m\u001b[0;31m:\u001b[0m unterminated string literal (detected at line 1)\n"
     ]
    }
   ],
   "source": [
    "'what's the time'"
   ]
  },
  {
   "cell_type": "code",
   "execution_count": 14,
   "metadata": {},
   "outputs": [
    {
     "data": {
      "text/plain": [
       "\"what's the time\""
      ]
     },
     "execution_count": 14,
     "metadata": {},
     "output_type": "execute_result"
    }
   ],
   "source": [
    "\"what's the time\""
   ]
  },
  {
   "cell_type": "markdown",
   "metadata": {},
   "source": [
    "### Lists"
   ]
  },
  {
   "cell_type": "markdown",
   "metadata": {},
   "source": [
    "Lists\n",
    "        - Represents ordered sequences of items. \n",
    "        - Items can be of any data types (numbers, strings, list...), and they are enclosed in square brackets [].\n",
    "        - Lists are mutable, meaning you can change their content (add, remove, modify elements)."
   ]
  },
  {
   "cell_type": "code",
   "execution_count": 15,
   "metadata": {},
   "outputs": [],
   "source": [
    "my_list=[1,2,'Hi']"
   ]
  },
  {
   "cell_type": "code",
   "execution_count": 16,
   "metadata": {},
   "outputs": [
    {
     "data": {
      "text/plain": [
       "[1, 2, 'Hi']"
      ]
     },
     "execution_count": 16,
     "metadata": {},
     "output_type": "execute_result"
    }
   ],
   "source": [
    "my_list"
   ]
  },
  {
   "cell_type": "code",
   "execution_count": 17,
   "metadata": {},
   "outputs": [
    {
     "data": {
      "text/plain": [
       "1"
      ]
     },
     "execution_count": 17,
     "metadata": {},
     "output_type": "execute_result"
    }
   ],
   "source": [
    "my_list[0]\n",
    "# the order of the list starting from 0"
   ]
  },
  {
   "cell_type": "code",
   "execution_count": 18,
   "metadata": {},
   "outputs": [
    {
     "data": {
      "text/plain": [
       "'Hi'"
      ]
     },
     "execution_count": 18,
     "metadata": {},
     "output_type": "execute_result"
    }
   ],
   "source": [
    "my_list[2]"
   ]
  },
  {
   "cell_type": "code",
   "execution_count": 20,
   "metadata": {},
   "outputs": [
    {
     "ename": "IndexError",
     "evalue": "list index out of range",
     "output_type": "error",
     "traceback": [
      "\u001b[0;31m---------------------------------------------------------------------------\u001b[0m",
      "\u001b[0;31mIndexError\u001b[0m                                Traceback (most recent call last)",
      "Cell \u001b[0;32mIn[20], line 1\u001b[0m\n\u001b[0;32m----> 1\u001b[0m \u001b[43mmy_list\u001b[49m\u001b[43m[\u001b[49m\u001b[38;5;241;43m3\u001b[39;49m\u001b[43m]\u001b[49m\n",
      "\u001b[0;31mIndexError\u001b[0m: list index out of range"
     ]
    }
   ],
   "source": [
    "my_list[3]"
   ]
  },
  {
   "cell_type": "code",
   "execution_count": 21,
   "metadata": {},
   "outputs": [],
   "source": [
    "my_list.append('new element')"
   ]
  },
  {
   "cell_type": "code",
   "execution_count": 22,
   "metadata": {},
   "outputs": [
    {
     "data": {
      "text/plain": [
       "[1, 2, 'Hi', 'new element']"
      ]
     },
     "execution_count": 22,
     "metadata": {},
     "output_type": "execute_result"
    }
   ],
   "source": [
    "my_list"
   ]
  },
  {
   "cell_type": "code",
   "execution_count": 23,
   "metadata": {},
   "outputs": [
    {
     "data": {
      "text/plain": [
       "'new element'"
      ]
     },
     "execution_count": 23,
     "metadata": {},
     "output_type": "execute_result"
    }
   ],
   "source": [
    "my_list[3]"
   ]
  },
  {
   "cell_type": "code",
   "execution_count": 24,
   "metadata": {},
   "outputs": [],
   "source": [
    "my_list[2]='Different Element'\n",
    "#change value"
   ]
  },
  {
   "cell_type": "code",
   "execution_count": 25,
   "metadata": {},
   "outputs": [
    {
     "data": {
      "text/plain": [
       "[1, 2, 'Different Element', 'new element']"
      ]
     },
     "execution_count": 25,
     "metadata": {},
     "output_type": "execute_result"
    }
   ],
   "source": [
    "my_list"
   ]
  },
  {
   "cell_type": "code",
   "execution_count": 26,
   "metadata": {},
   "outputs": [],
   "source": [
    "#You can nest a list within another\n",
    "my_other_list=[my_list,5,'Hello']"
   ]
  },
  {
   "cell_type": "code",
   "execution_count": 27,
   "metadata": {
    "scrolled": true
   },
   "outputs": [
    {
     "data": {
      "text/plain": [
       "[[1, 2, 'Different Element', 'new element'], 5, 'Hello']"
      ]
     },
     "execution_count": 27,
     "metadata": {},
     "output_type": "execute_result"
    }
   ],
   "source": [
    "my_other_list"
   ]
  },
  {
   "cell_type": "markdown",
   "metadata": {},
   "source": [
    "### Dictionaries"
   ]
  },
  {
   "cell_type": "markdown",
   "metadata": {},
   "source": [
    "Dictionaries\n",
    "        - Represents key-value pairs.\n",
    "        - Uses curly braces {} with keys and associated values.\n",
    "        - Provides a way to access values using their keys.\n",
    "        - Dictionaries are also mutable."
   ]
  },
  {
   "cell_type": "code",
   "execution_count": 28,
   "metadata": {},
   "outputs": [],
   "source": [
    "d = {'keyA':'itemA','keyB':3}"
   ]
  },
  {
   "cell_type": "code",
   "execution_count": 29,
   "metadata": {},
   "outputs": [
    {
     "data": {
      "text/plain": [
       "3"
      ]
     },
     "execution_count": 29,
     "metadata": {},
     "output_type": "execute_result"
    }
   ],
   "source": [
    "d['keyB']"
   ]
  },
  {
   "cell_type": "code",
   "execution_count": 30,
   "metadata": {},
   "outputs": [],
   "source": [
    "myvariables={'x': 1, 'y':2, 'z':4}"
   ]
  },
  {
   "cell_type": "code",
   "execution_count": 31,
   "metadata": {},
   "outputs": [],
   "source": [
    "myvariables['x']=2\n",
    "#change value"
   ]
  },
  {
   "cell_type": "code",
   "execution_count": 32,
   "metadata": {},
   "outputs": [
    {
     "data": {
      "text/plain": [
       "{'x': 2, 'y': 2, 'z': 4}"
      ]
     },
     "execution_count": 32,
     "metadata": {},
     "output_type": "execute_result"
    }
   ],
   "source": [
    "myvariables"
   ]
  },
  {
   "cell_type": "markdown",
   "metadata": {},
   "source": [
    "### Sets"
   ]
  },
  {
   "cell_type": "markdown",
   "metadata": {},
   "source": [
    "Sets\n",
    "        - Represents an unordered collection of unique elements.\n",
    "        - Enclosed in curly braces {}.\n",
    "        - Does not allow duplicate values.\n",
    "        - Used for tasks that require testing for membership and eliminating duplicates."
   ]
  },
  {
   "cell_type": "code",
   "execution_count": 33,
   "metadata": {},
   "outputs": [
    {
     "data": {
      "text/plain": [
       "{1, 2, 3, 4, 5}"
      ]
     },
     "execution_count": 33,
     "metadata": {},
     "output_type": "execute_result"
    }
   ],
   "source": [
    "{1,2,3,4,5}"
   ]
  },
  {
   "cell_type": "code",
   "execution_count": 34,
   "metadata": {},
   "outputs": [
    {
     "data": {
      "text/plain": [
       "{1, 2, 3, 4, 5}"
      ]
     },
     "execution_count": 34,
     "metadata": {},
     "output_type": "execute_result"
    }
   ],
   "source": [
    "{1,2,3,4,5,5,5,5,5,5,5,5,5}"
   ]
  },
  {
   "cell_type": "markdown",
   "metadata": {},
   "source": [
    "### Tuple"
   ]
  },
  {
   "cell_type": "markdown",
   "metadata": {},
   "source": [
    "Tuples\n",
    "        - Represents ordered, immutable sequences of elements.\n",
    "        - Enclosed in parentheses ().\n",
    "        - Similar to lists, but once created, their content cannot be changed.\n",
    "        - Used when you need a collection of items that should not be modified."
   ]
  },
  {
   "cell_type": "code",
   "execution_count": 35,
   "metadata": {},
   "outputs": [],
   "source": [
    "# You can't change items, add items, or delete ones!\n",
    "t = (1,0,3)"
   ]
  },
  {
   "cell_type": "code",
   "execution_count": 36,
   "metadata": {},
   "outputs": [
    {
     "data": {
      "text/plain": [
       "(1, 0, 3)"
      ]
     },
     "execution_count": 36,
     "metadata": {},
     "output_type": "execute_result"
    }
   ],
   "source": [
    "t"
   ]
  },
  {
   "cell_type": "code",
   "execution_count": 37,
   "metadata": {},
   "outputs": [
    {
     "data": {
      "text/plain": [
       "1"
      ]
     },
     "execution_count": 37,
     "metadata": {},
     "output_type": "execute_result"
    }
   ],
   "source": [
    "t[0]"
   ]
  },
  {
   "cell_type": "code",
   "execution_count": 38,
   "metadata": {},
   "outputs": [
    {
     "ename": "TypeError",
     "evalue": "'tuple' object does not support item assignment",
     "output_type": "error",
     "traceback": [
      "\u001b[0;31m---------------------------------------------------------------------------\u001b[0m",
      "\u001b[0;31mTypeError\u001b[0m                                 Traceback (most recent call last)",
      "Cell \u001b[0;32mIn[38], line 1\u001b[0m\n\u001b[0;32m----> 1\u001b[0m \u001b[43mt\u001b[49m\u001b[43m[\u001b[49m\u001b[38;5;241;43m0\u001b[39;49m\u001b[43m]\u001b[49m\u001b[38;5;241m=\u001b[39m\u001b[38;5;241m4\u001b[39m\n",
      "\u001b[0;31mTypeError\u001b[0m: 'tuple' object does not support item assignment"
     ]
    }
   ],
   "source": [
    "t[0]=4"
   ]
  },
  {
   "cell_type": "code",
   "execution_count": 39,
   "metadata": {},
   "outputs": [
    {
     "ename": "AttributeError",
     "evalue": "'tuple' object has no attribute 'append'",
     "output_type": "error",
     "traceback": [
      "\u001b[0;31m---------------------------------------------------------------------------\u001b[0m",
      "\u001b[0;31mAttributeError\u001b[0m                            Traceback (most recent call last)",
      "Cell \u001b[0;32mIn[39], line 1\u001b[0m\n\u001b[0;32m----> 1\u001b[0m \u001b[43mt\u001b[49m\u001b[38;5;241;43m.\u001b[39;49m\u001b[43mappend\u001b[49m(\u001b[38;5;241m5\u001b[39m)\n",
      "\u001b[0;31mAttributeError\u001b[0m: 'tuple' object has no attribute 'append'"
     ]
    }
   ],
   "source": [
    "t.append(5)"
   ]
  },
  {
   "cell_type": "markdown",
   "metadata": {},
   "source": [
    "### Booleans"
   ]
  },
  {
   "cell_type": "markdown",
   "metadata": {},
   "source": [
    "Booleans\n",
    "        - Represents a binary value, either True or False.\n",
    "        - Used for logical operations, comparisons, and control flow."
   ]
  },
  {
   "cell_type": "code",
   "execution_count": 40,
   "metadata": {},
   "outputs": [
    {
     "data": {
      "text/plain": [
       "True"
      ]
     },
     "execution_count": 40,
     "metadata": {},
     "output_type": "execute_result"
    }
   ],
   "source": [
    "True"
   ]
  },
  {
   "cell_type": "code",
   "execution_count": 41,
   "metadata": {
    "scrolled": true
   },
   "outputs": [
    {
     "data": {
      "text/plain": [
       "False"
      ]
     },
     "execution_count": 41,
     "metadata": {},
     "output_type": "execute_result"
    }
   ],
   "source": [
    "False"
   ]
  },
  {
   "cell_type": "markdown",
   "metadata": {},
   "source": [
    "### Operators"
   ]
  },
  {
   "cell_type": "code",
   "execution_count": 42,
   "metadata": {},
   "outputs": [
    {
     "data": {
      "text/plain": [
       "False"
      ]
     },
     "execution_count": 42,
     "metadata": {},
     "output_type": "execute_result"
    }
   ],
   "source": [
    "#greater than\n",
    "1>2"
   ]
  },
  {
   "cell_type": "code",
   "execution_count": 43,
   "metadata": {},
   "outputs": [
    {
     "data": {
      "text/plain": [
       "True"
      ]
     },
     "execution_count": 43,
     "metadata": {},
     "output_type": "execute_result"
    }
   ],
   "source": [
    "#less than\n",
    "2<3"
   ]
  },
  {
   "cell_type": "code",
   "execution_count": 44,
   "metadata": {},
   "outputs": [
    {
     "data": {
      "text/plain": [
       "True"
      ]
     },
     "execution_count": 44,
     "metadata": {},
     "output_type": "execute_result"
    }
   ],
   "source": [
    "#Use the equality operator (==) to compare the values 2 and 2.0. This operator returns True if the values on both sides are equal, and False otherwise.\n",
    "\n",
    "2==2.0"
   ]
  },
  {
   "cell_type": "code",
   "execution_count": 45,
   "metadata": {},
   "outputs": [
    {
     "data": {
      "text/plain": [
       "True"
      ]
     },
     "execution_count": 45,
     "metadata": {},
     "output_type": "execute_result"
    }
   ],
   "source": [
    "#Use the greater-than-or-equal-to operator (>=) to compare the values 2 and 2. This operator returns True if the left value is greater than or equal to the right value, and False otherwise.\n",
    "\n",
    "2>=2"
   ]
  },
  {
   "cell_type": "code",
   "execution_count": 46,
   "metadata": {},
   "outputs": [
    {
     "data": {
      "text/plain": [
       "False"
      ]
     },
     "execution_count": 46,
     "metadata": {},
     "output_type": "execute_result"
    }
   ],
   "source": [
    "#Evaluate two conditions using the logical 'and' operator. The 'and' operator returns True only if both of its operands are True.\n",
    "\n",
    "(1>1) and (2>1)"
   ]
  },
  {
   "cell_type": "code",
   "execution_count": 47,
   "metadata": {},
   "outputs": [
    {
     "data": {
      "text/plain": [
       "True"
      ]
     },
     "execution_count": 47,
     "metadata": {},
     "output_type": "execute_result"
    }
   ],
   "source": [
    "(1>1) or (2>1)"
   ]
  },
  {
   "cell_type": "code",
   "execution_count": 48,
   "metadata": {},
   "outputs": [
    {
     "data": {
      "text/plain": [
       "False"
      ]
     },
     "execution_count": 48,
     "metadata": {},
     "output_type": "execute_result"
    }
   ],
   "source": [
    "(1>1) or (2>2)or (3>3)"
   ]
  },
  {
   "cell_type": "code",
   "execution_count": 49,
   "metadata": {},
   "outputs": [
    {
     "data": {
      "text/plain": [
       "False"
      ]
     },
     "execution_count": 49,
     "metadata": {},
     "output_type": "execute_result"
    }
   ],
   "source": [
    "(1>1) and (2>2)and (3>3)"
   ]
  },
  {
   "cell_type": "markdown",
   "metadata": {},
   "source": [
    "### if, elif, else Statements"
   ]
  },
  {
   "cell_type": "markdown",
   "metadata": {},
   "source": [
    "if, elif, and else are control flow statements that allow you to create conditional branches in your code. These statements help you control the execution of different parts of your code based on certain conditions. \n",
    "\n",
    "```python\n",
    "if condition1:\n",
    "    # Code to execute if condition1 is True\n",
    "elif condition2:\n",
    "    # Code to execute if condition2 is True\n",
    "# ... You can have multiple elif blocks\n",
    "else:\n",
    "    # Code to execute if none of the above conditions are True\n",
    "```"
   ]
  },
  {
   "cell_type": "code",
   "execution_count": 50,
   "metadata": {},
   "outputs": [
    {
     "name": "stdout",
     "output_type": "stream",
     "text": [
      "Yes!\n"
     ]
    }
   ],
   "source": [
    "if 1>0:\n",
    "    print('Yes!')"
   ]
  },
  {
   "cell_type": "code",
   "execution_count": 51,
   "metadata": {},
   "outputs": [
    {
     "name": "stdout",
     "output_type": "stream",
     "text": [
      "No\n"
     ]
    }
   ],
   "source": [
    "if 1>1:\n",
    "    print('Yes!')\n",
    "else:\n",
    "    print('No')"
   ]
  },
  {
   "cell_type": "code",
   "execution_count": 52,
   "metadata": {},
   "outputs": [
    {
     "name": "stdout",
     "output_type": "stream",
     "text": [
      "second\n"
     ]
    }
   ],
   "source": [
    "if 1>2:\n",
    "    print('first')\n",
    "elif 2 == 2:\n",
    "    print('second')\n",
    "else:\n",
    "    print('Last')\n"
   ]
  },
  {
   "cell_type": "markdown",
   "metadata": {},
   "source": [
    "### for and while loops"
   ]
  },
  {
   "cell_type": "markdown",
   "metadata": {},
   "source": [
    "for and while are two types of loops that allow you to repeat a block of code multiple times. They are used to automate repetitive tasks and iterate over sequences of items.\n",
    "```python\n",
    "for item in sequence:\n",
    "    # Code to execute for each item\n",
    "    \n",
    "while condition:\n",
    "    # Code to execute while condition is True\n",
    "```"
   ]
  },
  {
   "cell_type": "code",
   "execution_count": 53,
   "metadata": {},
   "outputs": [],
   "source": [
    "List1 = [1,2,3,4,5]"
   ]
  },
  {
   "cell_type": "code",
   "execution_count": 54,
   "metadata": {},
   "outputs": [
    {
     "name": "stdout",
     "output_type": "stream",
     "text": [
      "1\n",
      "2\n",
      "3\n",
      "4\n",
      "5\n"
     ]
    }
   ],
   "source": [
    "for item in List1:\n",
    "    print(item)"
   ]
  },
  {
   "cell_type": "code",
   "execution_count": 55,
   "metadata": {},
   "outputs": [
    {
     "name": "stdout",
     "output_type": "stream",
     "text": [
      "1\n",
      "2\n",
      "3\n",
      "4\n",
      "5\n"
     ]
    }
   ],
   "source": [
    "for i in List1:\n",
    "    print(i)"
   ]
  },
  {
   "cell_type": "code",
   "execution_count": 56,
   "metadata": {
    "scrolled": true
   },
   "outputs": [
    {
     "name": "stdout",
     "output_type": "stream",
     "text": [
      "Hi\n",
      "Hi\n",
      "Hi\n",
      "Hi\n",
      "Hi\n"
     ]
    }
   ],
   "source": [
    "for i in List1:\n",
    "    print('Hi')"
   ]
  },
  {
   "cell_type": "code",
   "execution_count": 57,
   "metadata": {},
   "outputs": [
    {
     "name": "stdout",
     "output_type": "stream",
     "text": [
      "2\n",
      "4\n",
      "6\n",
      "8\n",
      "10\n"
     ]
    }
   ],
   "source": [
    "for i in List1:\n",
    "    print(i+i)"
   ]
  },
  {
   "cell_type": "code",
   "execution_count": 58,
   "metadata": {},
   "outputs": [
    {
     "name": "stdout",
     "output_type": "stream",
     "text": [
      "j is: 1\n",
      "j is: 2\n",
      "j is: 3\n",
      "j is: 4\n",
      "j is: 5\n",
      "j is: 6\n",
      "j is: 7\n",
      "j is: 8\n",
      "j is: 9\n"
     ]
    }
   ],
   "source": [
    "j = 1\n",
    "while j < 10:\n",
    "    print('j is: {}'.format(j))\n",
    "    j = j+1"
   ]
  },
  {
   "cell_type": "markdown",
   "metadata": {},
   "source": [
    "### range function "
   ]
  },
  {
   "cell_type": "markdown",
   "metadata": {},
   "source": [
    "range() function is a built-in function that generates a sequence of numbers. It's often used in loops, particularly with for loops, to iterate over a specified range of numbers. The range() function can take up to three arguments:\n",
    "\n",
    "Start (optional): The starting value of the sequence (inclusive). If omitted, the sequence starts from 0.\n",
    "\n",
    "Stop (required): The ending value of the sequence (exclusive). The sequence will generate numbers up to, but not including, this value.\n",
    "\n",
    "Step (optional): The step size or the difference between consecutive numbers in the sequence. If omitted, the default step is 1.\n",
    "\n",
    "The range() function returns an iterable sequence of numbers that you can loop over using a for loop or convert to other data structures like lists using the list() function."
   ]
  },
  {
   "cell_type": "code",
   "execution_count": 59,
   "metadata": {},
   "outputs": [
    {
     "data": {
      "text/plain": [
       "range(0, 3)"
      ]
     },
     "execution_count": 59,
     "metadata": {},
     "output_type": "execute_result"
    }
   ],
   "source": [
    "range(3)"
   ]
  },
  {
   "cell_type": "code",
   "execution_count": 60,
   "metadata": {},
   "outputs": [
    {
     "name": "stdout",
     "output_type": "stream",
     "text": [
      "0\n",
      "1\n",
      "2\n"
     ]
    }
   ],
   "source": [
    "for i in range(0, 3):\n",
    "    print(i)"
   ]
  },
  {
   "cell_type": "code",
   "execution_count": 61,
   "metadata": {},
   "outputs": [
    {
     "name": "stdout",
     "output_type": "stream",
     "text": [
      "0\n",
      "2\n",
      "4\n",
      "6\n"
     ]
    }
   ],
   "source": [
    "for i in range(0, 8,2):\n",
    "    print(i)"
   ]
  },
  {
   "cell_type": "markdown",
   "metadata": {},
   "source": [
    "### List Processing"
   ]
  },
  {
   "cell_type": "markdown",
   "metadata": {},
   "source": [
    "Accessing Elements:\n",
    "You can access individual elements in a list using indexing. For example:\n",
    "\n",
    "```python\n",
    "my_list = [10, 20, 30, 40, 50]\n",
    "first_element = my_list[0]   # Access the first element (10)\n",
    "last_element = my_list[-1]   # Access the last element (50)\n",
    "```\n",
    "\n",
    "Slicing:\n",
    "Slicing allows you to extract a sublist from a list by specifying a start and end index. For example:\n",
    "\n",
    "```python\n",
    "sub_list = my_list[1:4]   # Get elements at index 1, 2, and 3 (20, 30, 40)\n",
    "```\n",
    "\n",
    "Adding and Removing Elements:\n",
    "You can add elements to the end of a list using the append() method and remove elements using methods like pop() and remove().\n",
    "\n",
    "```python\n",
    "my_list.append(60)    # Add 60 to the end\n",
    "my_list.pop(2)        # Remove element at index 2 (30)\n",
    "my_list.remove(20)    # Remove the element with value 20\n",
    "```\n",
    "\n",
    "Iterating Over Lists:\n",
    "You can use loops, such as for, to iterate over the elements in a list.\n",
    "\n",
    "```python\n",
    "for item in my_list:\n",
    "    print(item)\n",
    "```\n",
    "\n",
    "List Comprehensions:\n",
    "List comprehensions provide a concise way to create lists based on existing lists or other iterable objects.\n",
    "\n",
    "```python\n",
    "squares = [x ** 2 for x in my_list]\n",
    "```\n",
    "\n",
    "Sorting and Reversing:\n",
    "You can sort a list using the sort() method or the sorted() function, and you can reverse the order using the reverse() method.\n",
    "\n",
    "```python\n",
    "my_list.sort()         # Sort the list in place\n",
    "sorted_list = sorted(my_list)   # Create a sorted copy of the list\n",
    "my_list.reverse()      # Reverse the list in place\n",
    "```\n",
    "\n",
    "Finding Elements:\n",
    "You can find the index of an element using the index() method or check if an element exists in the list using the in operator.\n",
    "\n",
    "```python\n",
    "index = my_list.index(40)   # Find the index of 40\n",
    "exists = 50 in my_list     # Check if 50 is in the list (returns True)\n",
    "```"
   ]
  },
  {
   "cell_type": "code",
   "execution_count": 62,
   "metadata": {},
   "outputs": [
    {
     "name": "stdout",
     "output_type": "stream",
     "text": [
      "[1, 4, 9, 16]\n"
     ]
    }
   ],
   "source": [
    "# This verbose!\n",
    "list10=[1,2,3,4]\n",
    "output = []\n",
    "for item in list10:\n",
    "    output.append(item**2)\n",
    "print(output)"
   ]
  },
  {
   "cell_type": "code",
   "execution_count": 63,
   "metadata": {},
   "outputs": [],
   "source": [
    "out=[item**2 for item in list10]"
   ]
  },
  {
   "cell_type": "code",
   "execution_count": 64,
   "metadata": {},
   "outputs": [
    {
     "data": {
      "text/plain": [
       "[1, 4, 9, 16]"
      ]
     },
     "execution_count": 64,
     "metadata": {},
     "output_type": "execute_result"
    }
   ],
   "source": [
    "out"
   ]
  },
  {
   "cell_type": "markdown",
   "metadata": {},
   "source": [
    "### functions"
   ]
  },
  {
   "cell_type": "code",
   "execution_count": 65,
   "metadata": {},
   "outputs": [],
   "source": [
    "def square(x):\n",
    "    return x**2"
   ]
  },
  {
   "cell_type": "code",
   "execution_count": 66,
   "metadata": {},
   "outputs": [
    {
     "data": {
      "text/plain": [
       "9"
      ]
     },
     "execution_count": 66,
     "metadata": {},
     "output_type": "execute_result"
    }
   ],
   "source": [
    "square(3)"
   ]
  },
  {
   "cell_type": "markdown",
   "metadata": {},
   "source": [
    "### Lambda expressions\n"
   ]
  },
  {
   "cell_type": "markdown",
   "metadata": {},
   "source": [
    "lambda expression (also known as a lambda function or anonymous function) is a compact way to define a small, unnamed function without using the def keyword. Lambda expressions are often used for simple operations or as arguments to higher-order functions that expect a function as input. "
   ]
  },
  {
   "cell_type": "code",
   "execution_count": 67,
   "metadata": {},
   "outputs": [
    {
     "data": {
      "text/plain": [
       "9"
      ]
     },
     "execution_count": 67,
     "metadata": {},
     "output_type": "execute_result"
    }
   ],
   "source": [
    "(lambda var:var**2)(3)"
   ]
  },
  {
   "cell_type": "markdown",
   "metadata": {},
   "source": [
    "### map and filter"
   ]
  },
  {
   "cell_type": "markdown",
   "metadata": {},
   "source": [
    "map() and filter() are built-in functions that operate on iterables (like lists, tuples, etc.) and provide a concise way to perform transformations and filtering on the elements of these iterables. They both take a function as the first argument and an iterable as the second argument.\n",
    "\n",
    "map() Function:\n",
    "The map() function applies a given function to each item in an iterable and returns an iterator that yields the results. It essentially \"maps\" each element of the iterable through the specified function.\n",
    "\n",
    "Syntax:\n",
    "```python\n",
    "map(function, iterable)\n",
    "```\n",
    "Example:\n",
    "```python\n",
    "numbers = [1, 2, 3, 4, 5]\n",
    "squared = map(lambda x: x ** 2, numbers)\n",
    "print(list(squared))  # Output: [1, 4, 9, 16, 25]\n",
    "```\n",
    "\n",
    "filter() Function:\n",
    "The filter() function applies a given function to each item in an iterable and returns an iterator that yields only the items for which the function returns True. It essentially \"filters\" the elements of the iterable based on the specified function.\n",
    "\n",
    "Syntax:\n",
    "```python\n",
    "filter(function, iterable)\n",
    "```\n",
    "Example:\n",
    "```python\n",
    "numbers = [1, 2, 3, 4, 5]\n",
    "evens = filter(lambda x: x % 2 == 0, numbers)\n",
    "print(list(evens))  # Output: [2, 4]\n",
    "```"
   ]
  },
  {
   "cell_type": "code",
   "execution_count": 68,
   "metadata": {},
   "outputs": [],
   "source": [
    "SEQ = [1,2,3]"
   ]
  },
  {
   "cell_type": "code",
   "execution_count": 69,
   "metadata": {},
   "outputs": [
    {
     "data": {
      "text/plain": [
       "<map at 0x798fa5f8a3b0>"
      ]
     },
     "execution_count": 69,
     "metadata": {},
     "output_type": "execute_result"
    }
   ],
   "source": [
    "map(square,SEQ)"
   ]
  },
  {
   "cell_type": "code",
   "execution_count": 70,
   "metadata": {},
   "outputs": [
    {
     "data": {
      "text/plain": [
       "[1, 4, 9]"
      ]
     },
     "execution_count": 70,
     "metadata": {},
     "output_type": "execute_result"
    }
   ],
   "source": [
    "list(map(square,SEQ))"
   ]
  },
  {
   "cell_type": "markdown",
   "metadata": {},
   "source": [
    "### methods"
   ]
  },
  {
   "cell_type": "code",
   "execution_count": 71,
   "metadata": {},
   "outputs": [],
   "source": [
    "String='Hi my name is Anye #DeepLearningFall23'"
   ]
  },
  {
   "cell_type": "code",
   "execution_count": 72,
   "metadata": {},
   "outputs": [
    {
     "data": {
      "text/plain": [
       "'hi my name is anye #deeplearningfall23'"
      ]
     },
     "execution_count": 72,
     "metadata": {},
     "output_type": "execute_result"
    }
   ],
   "source": [
    "String.lower()"
   ]
  },
  {
   "cell_type": "code",
   "execution_count": 73,
   "metadata": {},
   "outputs": [
    {
     "data": {
      "text/plain": [
       "'HI MY NAME IS ANYE #DEEPLEARNINGFALL23'"
      ]
     },
     "execution_count": 73,
     "metadata": {},
     "output_type": "execute_result"
    }
   ],
   "source": [
    "String.upper()"
   ]
  },
  {
   "cell_type": "code",
   "execution_count": 74,
   "metadata": {},
   "outputs": [
    {
     "data": {
      "text/plain": [
       "['Hi', 'my', 'name', 'is', 'Anye', '#DeepLearningFall23']"
      ]
     },
     "execution_count": 74,
     "metadata": {},
     "output_type": "execute_result"
    }
   ],
   "source": [
    "String.split()"
   ]
  },
  {
   "cell_type": "code",
   "execution_count": 75,
   "metadata": {},
   "outputs": [
    {
     "data": {
      "text/plain": [
       "['Hi my name is Anye ', 'DeepLearningFall23']"
      ]
     },
     "execution_count": 75,
     "metadata": {},
     "output_type": "execute_result"
    }
   ],
   "source": [
    "String.split('#') #divided by hashtag"
   ]
  },
  {
   "cell_type": "code",
   "execution_count": 76,
   "metadata": {},
   "outputs": [],
   "source": [
    "SEQ.append(4)"
   ]
  },
  {
   "cell_type": "code",
   "execution_count": 77,
   "metadata": {},
   "outputs": [
    {
     "data": {
      "text/plain": [
       "[1, 2, 3, 4]"
      ]
     },
     "execution_count": 77,
     "metadata": {},
     "output_type": "execute_result"
    }
   ],
   "source": [
    "SEQ"
   ]
  },
  {
   "cell_type": "code",
   "execution_count": 78,
   "metadata": {},
   "outputs": [
    {
     "data": {
      "text/plain": [
       "4"
      ]
     },
     "execution_count": 78,
     "metadata": {},
     "output_type": "execute_result"
    }
   ],
   "source": [
    "SEQ.pop()\n",
    "#remove all and keep the last item"
   ]
  },
  {
   "cell_type": "code",
   "execution_count": 79,
   "metadata": {},
   "outputs": [
    {
     "data": {
      "text/plain": [
       "False"
      ]
     },
     "execution_count": 79,
     "metadata": {},
     "output_type": "execute_result"
    }
   ],
   "source": [
    "'Hi' in ['Hello','Hey','Hola']"
   ]
  },
  {
   "cell_type": "code",
   "execution_count": 80,
   "metadata": {},
   "outputs": [
    {
     "data": {
      "text/plain": [
       "False"
      ]
     },
     "execution_count": 80,
     "metadata": {},
     "output_type": "execute_result"
    }
   ],
   "source": [
    "1 in [0,5,10,15]"
   ]
  },
  {
   "cell_type": "markdown",
   "metadata": {},
   "source": [
    "# The end!"
   ]
  }
 ],
 "metadata": {
  "anaconda-cloud": {},
  "kernelspec": {
   "display_name": "torch",
   "language": "python",
   "name": "python3"
  },
  "language_info": {
   "codemirror_mode": {
    "name": "ipython",
    "version": 3
   },
   "file_extension": ".py",
   "mimetype": "text/x-python",
   "name": "python",
   "nbconvert_exporter": "python",
   "pygments_lexer": "ipython3",
   "version": "3.10.15"
  }
 },
 "nbformat": 4,
 "nbformat_minor": 1
}
